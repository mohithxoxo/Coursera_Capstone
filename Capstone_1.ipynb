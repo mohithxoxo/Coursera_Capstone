{
  "nbformat": 4,
  "nbformat_minor": 0,
  "metadata": {
    "kernelspec": {
      "display_name": "Python 3",
      "language": "python",
      "name": "python3"
    },
    "language_info": {
      "codemirror_mode": {
        "name": "ipython",
        "version": 3
      },
      "file_extension": ".py",
      "mimetype": "text/x-python",
      "name": "python",
      "nbconvert_exporter": "python",
      "pygments_lexer": "ipython3",
      "version": "3.6.6"
    },
    "colab": {
      "name": "Capstone 3 .ipynb",
      "provenance": [],
      "collapsed_sections": []
    }
  },
  "cells": [
    {
      "cell_type": "markdown",
      "metadata": {
        "id": "Ypz0qhwu8upJ",
        "colab_type": "text"
      },
      "source": [
        "<h3> Preprocessing </h3>"
      ]
    },
    {
      "cell_type": "code",
      "metadata": {
        "id": "M-QDtA_B8upQ",
        "colab_type": "code",
        "colab": {}
      },
      "source": [
        "# importing necessary libraries\n",
        "import pandas as pd\n",
        "import numpy as np\n",
        "from bs4 import BeautifulSoup\n",
        "import requests"
      ],
      "execution_count": 0,
      "outputs": []
    },
    {
      "cell_type": "code",
      "metadata": {
        "id": "xVo-0vAU8upc",
        "colab_type": "code",
        "colab": {}
      },
      "source": [
        "# getting data from internet\n",
        "wikipedia_link='https://en.wikipedia.org/wiki/List_of_postal_codes_of_Canada:_M'\n",
        "raw_wikipedia_page= requests.get(wikipedia_link).text\n",
        "\n",
        "# using beautiful soup to parse the HTML/XML codes.\n",
        "soup = BeautifulSoup(raw_wikipedia_page,'xml')\n",
        "#print(soup.prettify())"
      ],
      "execution_count": 0,
      "outputs": []
    },
    {
      "cell_type": "markdown",
      "metadata": {
        "id": "nCYnoYGe8upn",
        "colab_type": "text"
      },
      "source": [
        "<h3> Processing-part-1: extracting raw table (from webpage) </h3>"
      ]
    },
    {
      "cell_type": "code",
      "metadata": {
        "id": "s5-QiSN18upp",
        "colab_type": "code",
        "colab": {}
      },
      "source": [
        "# extracting the raw table inside that webpage\n",
        "table = soup.find('table')\n",
        "\n",
        "Postcode      = []\n",
        "Borough       = []\n",
        "Neighbourhood = []\n",
        "\n",
        "# print(table)\n",
        "\n",
        "# extracting a clean form of the table\n",
        "for tr_cell in table.find_all('tr'):\n",
        "    \n",
        "    counter = 1\n",
        "    Postcode_var      = -1\n",
        "    Borough_var       = -1\n",
        "    Neighbourhood_var = -1\n",
        "    \n",
        "    for td_cell in tr_cell.find_all('td'):\n",
        "        if counter == 1: \n",
        "            Postcode_var = td_cell.text\n",
        "        if counter == 2: \n",
        "            Borough_var = td_cell.text\n",
        "            tag_a_Borough = td_cell.find('a')\n",
        "            \n",
        "        if counter == 3: \n",
        "            Neighbourhood_var = str(td_cell.text).strip()\n",
        "            tag_a_Neighbourhood = td_cell.find('a')\n",
        "            \n",
        "        counter +=1\n",
        "        \n",
        "        if (Postcode_var == 'Not assigned' or Borough_var == 'Not assigned' or Neighbourhood_var == 'Not assigned'):\n",
        "            \n",
        "            continue\n",
        "            \n",
        "           \n",
        "    try:\n",
        "        if ((tag_a_Borough is None) or (tag_a_Neighbourhood is None)):\n",
        "            \n",
        "            continue\n",
        "            \n",
        "            \n",
        "    except:\n",
        "        \n",
        "        pass\n",
        "    \n",
        "    if(Postcode_var == -1 or Borough_var == -1 or Neighbourhood_var == -1):\n",
        "        \n",
        "        continue\n",
        "        \n",
        "        \n",
        "        \n",
        "        \n",
        "        \n",
        "        \n",
        "    Postcode.append(Postcode_var)\n",
        "    Borough.append(Borough_var)\n",
        "    Neighbourhood.append(Neighbourhood_var)"
      ],
      "execution_count": 0,
      "outputs": []
    },
    {
      "cell_type": "markdown",
      "metadata": {
        "id": "UtuKInnT8up2",
        "colab_type": "text"
      },
      "source": [
        "<h3> Processing-part-2: integrating Postal codes with more than 1 neighbour </h3>"
      ]
    },
    {
      "cell_type": "code",
      "metadata": {
        "id": "bAwGlFAN8up5",
        "colab_type": "code",
        "colab": {
          "base_uri": "https://localhost:8080/",
          "height": 34
        },
        "outputId": "a8555e60-179b-4f78-fcb9-ec3b3240b09e"
      },
      "source": [
        "unique_p = set(Postcode)\n",
        "print('num of unique Postal codes:', len(unique_p))\n",
        "Postcode_u      = []\n",
        "Borough_u       = []\n",
        "Neighbourhood_u = []\n",
        "\n",
        "\n",
        "for postcode_unique_element in unique_p:\n",
        "    p_var = ''; b_var = ''; n_var = ''; \n",
        "    for postcode_idx, postcode_element in enumerate(Postcode):\n",
        "        if postcode_unique_element == postcode_element:\n",
        "            p_var = postcode_element;\n",
        "            b_var = Borough[postcode_idx]\n",
        "            if n_var == '': \n",
        "                n_var = Neighbourhood[postcode_idx]\n",
        "            else:\n",
        "                n_var = n_var + ', ' + Neighbourhood[postcode_idx]\n",
        "    Postcode_u.append(p_var)\n",
        "    Borough_u.append(b_var)\n",
        "    Neighbourhood_u.append(n_var)"
      ],
      "execution_count": 4,
      "outputs": [
        {
          "output_type": "stream",
          "text": [
            "num of unique Postal codes: 78\n"
          ],
          "name": "stdout"
        }
      ]
    },
    {
      "cell_type": "markdown",
      "metadata": {
        "id": "7Q2BAS728uqG",
        "colab_type": "text"
      },
      "source": [
        "<h3> Post-processing: creating an appropriate Pandas Dataframe </h3>"
      ]
    },
    {
      "cell_type": "code",
      "metadata": {
        "id": "SyQTznUu8uqJ",
        "colab_type": "code",
        "colab": {
          "base_uri": "https://localhost:8080/",
          "height": 483
        },
        "outputId": "981537a5-6242-4f98-9df6-b9fb7934170d"
      },
      "source": [
        "toronto_dict = {'Postcode':Postcode_u, 'Borough':Borough_u, 'Neighbourhood':Neighbourhood_u}\n",
        "df_toronto = pd.DataFrame.from_dict(toronto_dict)\n",
        "df_toronto.to_csv('toronto_part1.csv')\n",
        "df_toronto.head(14)"
      ],
      "execution_count": 5,
      "outputs": [
        {
          "output_type": "execute_result",
          "data": {
            "text/html": [
              "<div>\n",
              "<style scoped>\n",
              "    .dataframe tbody tr th:only-of-type {\n",
              "        vertical-align: middle;\n",
              "    }\n",
              "\n",
              "    .dataframe tbody tr th {\n",
              "        vertical-align: top;\n",
              "    }\n",
              "\n",
              "    .dataframe thead th {\n",
              "        text-align: right;\n",
              "    }\n",
              "</style>\n",
              "<table border=\"1\" class=\"dataframe\">\n",
              "  <thead>\n",
              "    <tr style=\"text-align: right;\">\n",
              "      <th></th>\n",
              "      <th>Postcode</th>\n",
              "      <th>Borough</th>\n",
              "      <th>Neighbourhood</th>\n",
              "    </tr>\n",
              "  </thead>\n",
              "  <tbody>\n",
              "    <tr>\n",
              "      <th>0</th>\n",
              "      <td>M2L</td>\n",
              "      <td>North York</td>\n",
              "      <td>York Mills</td>\n",
              "    </tr>\n",
              "    <tr>\n",
              "      <th>1</th>\n",
              "      <td>M4H</td>\n",
              "      <td>East York</td>\n",
              "      <td>Thorncliffe Park</td>\n",
              "    </tr>\n",
              "    <tr>\n",
              "      <th>2</th>\n",
              "      <td>M1B</td>\n",
              "      <td>Scarborough</td>\n",
              "      <td>Rouge, Malvern</td>\n",
              "    </tr>\n",
              "    <tr>\n",
              "      <th>3</th>\n",
              "      <td>M6L</td>\n",
              "      <td>North York</td>\n",
              "      <td>Downsview</td>\n",
              "    </tr>\n",
              "    <tr>\n",
              "      <th>4</th>\n",
              "      <td>M6M</td>\n",
              "      <td>York</td>\n",
              "      <td>Keelesdale, Mount Dennis, Silverthorn</td>\n",
              "    </tr>\n",
              "    <tr>\n",
              "      <th>5</th>\n",
              "      <td>M5X</td>\n",
              "      <td>Downtown Toronto</td>\n",
              "      <td>First Canadian Place, Underground city</td>\n",
              "    </tr>\n",
              "    <tr>\n",
              "      <th>6</th>\n",
              "      <td>M8Z</td>\n",
              "      <td>Etobicoke</td>\n",
              "      <td>Mimico NW, The Queensway West</td>\n",
              "    </tr>\n",
              "    <tr>\n",
              "      <th>7</th>\n",
              "      <td>M8W</td>\n",
              "      <td>Etobicoke</td>\n",
              "      <td>Alderwood, Long Branch</td>\n",
              "    </tr>\n",
              "    <tr>\n",
              "      <th>8</th>\n",
              "      <td>M6S</td>\n",
              "      <td>West Toronto</td>\n",
              "      <td>Runnymede, Swansea</td>\n",
              "    </tr>\n",
              "    <tr>\n",
              "      <th>9</th>\n",
              "      <td>M5C</td>\n",
              "      <td>Downtown Toronto</td>\n",
              "      <td>St. James Town</td>\n",
              "    </tr>\n",
              "    <tr>\n",
              "      <th>10</th>\n",
              "      <td>M8Y</td>\n",
              "      <td>Etobicoke</td>\n",
              "      <td>Humber Bay, Mimico NE, Old Mill South, The Que...</td>\n",
              "    </tr>\n",
              "    <tr>\n",
              "      <th>11</th>\n",
              "      <td>M4Y</td>\n",
              "      <td>Downtown Toronto</td>\n",
              "      <td>Church and Wellesley</td>\n",
              "    </tr>\n",
              "    <tr>\n",
              "      <th>12</th>\n",
              "      <td>M5S</td>\n",
              "      <td>Downtown Toronto</td>\n",
              "      <td>University of Toronto</td>\n",
              "    </tr>\n",
              "    <tr>\n",
              "      <th>13</th>\n",
              "      <td>M3H</td>\n",
              "      <td>North York</td>\n",
              "      <td>Bathurst Manor, Wilson Heights</td>\n",
              "    </tr>\n",
              "  </tbody>\n",
              "</table>\n",
              "</div>"
            ],
            "text/plain": [
              "   Postcode  ...                                      Neighbourhood\n",
              "0       M2L  ...                                         York Mills\n",
              "1       M4H  ...                                   Thorncliffe Park\n",
              "2       M1B  ...                                     Rouge, Malvern\n",
              "3       M6L  ...                                          Downsview\n",
              "4       M6M  ...              Keelesdale, Mount Dennis, Silverthorn\n",
              "5       M5X  ...             First Canadian Place, Underground city\n",
              "6       M8Z  ...                      Mimico NW, The Queensway West\n",
              "7       M8W  ...                             Alderwood, Long Branch\n",
              "8       M6S  ...                                 Runnymede, Swansea\n",
              "9       M5C  ...                                     St. James Town\n",
              "10      M8Y  ...  Humber Bay, Mimico NE, Old Mill South, The Que...\n",
              "11      M4Y  ...                               Church and Wellesley\n",
              "12      M5S  ...                              University of Toronto\n",
              "13      M3H  ...                     Bathurst Manor, Wilson Heights\n",
              "\n",
              "[14 rows x 3 columns]"
            ]
          },
          "metadata": {
            "tags": []
          },
          "execution_count": 5
        }
      ]
    },
    {
      "cell_type": "code",
      "metadata": {
        "id": "bQGJJUgW8uqX",
        "colab_type": "code",
        "colab": {
          "base_uri": "https://localhost:8080/",
          "height": 34
        },
        "outputId": "40d8c49f-ba7e-4e0d-fed3-b225a6891bad"
      },
      "source": [
        "df_toronto.shape"
      ],
      "execution_count": 6,
      "outputs": [
        {
          "output_type": "execute_result",
          "data": {
            "text/plain": [
              "(78, 3)"
            ]
          },
          "metadata": {
            "tags": []
          },
          "execution_count": 6
        }
      ]
    },
    {
      "cell_type": "code",
      "metadata": {
        "id": "Lo8J8fSj8uqg",
        "colab_type": "code",
        "colab": {}
      },
      "source": [
        ""
      ],
      "execution_count": 0,
      "outputs": []
    }
  ]
}