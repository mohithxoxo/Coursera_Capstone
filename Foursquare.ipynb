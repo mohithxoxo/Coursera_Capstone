{
  "nbformat": 4,
  "nbformat_minor": 0,
  "metadata": {
    "kernelspec": {
      "display_name": "Python",
      "language": "python",
      "name": "conda-env-python-py"
    },
    "language_info": {
      "codemirror_mode": {
        "name": "ipython",
        "version": 3
      },
      "file_extension": ".py",
      "mimetype": "text/x-python",
      "name": "python",
      "nbconvert_exporter": "python",
      "pygments_lexer": "ipython3",
      "version": "3.6.7"
    },
    "colab": {
      "name": "Foursquare.ipynb",
      "provenance": [],
      "collapsed_sections": [
        "2lsZQED_oiyu",
        "rppVuTcpoizA",
        "_XJuw84qoizV",
        "Nxvt6ppRoiz2",
        "7mT1lkPyoi0I",
        "wl3Nol8Boi0i",
        "dMnPNYlFoi1b",
        "hEBbD0hYoi1r",
        "XqlHko71oi2P",
        "AHm9pCHqoi58",
        "a70fMzaToi6X",
        "rCWJ48zioi6a",
        "Rj7C8-xhoi6r",
        "AlzPrWgioi7A",
        "pqiWonCRoi7q",
        "qEE3sHcaoi81",
        "gaF6Ej5doi9d",
        "BBtO6oXwoi9y",
        "vGpM-EROoi-O",
        "rBMOBBC4oi_I",
        "bbiVw0-XojAQ",
        "Q6ELi9lkojAv",
        "5lr4FiV6ojBJ",
        "mypgejS3ojB7",
        "zqKNO9TxojCO",
        "-E3adQdZojC-",
        "LTPKZFYOojD0",
        "EpOcARG4ojEE",
        "laYksl38ojEe",
        "z6sRtwmtojFf"
      ],
      "include_colab_link": true
    }
  },
  "cells": [
    {
      "cell_type": "markdown",
      "metadata": {
        "id": "view-in-github",
        "colab_type": "text"
      },
      "source": [
        "<a href=\"https://colab.research.google.com/github/mohithxoxo/Project/blob/master/Foursquare.ipynb\" target=\"_parent\"><img src=\"https://colab.research.google.com/assets/colab-badge.svg\" alt=\"Open In Colab\"/></a>"
      ]
    },
    {
      "cell_type": "markdown",
      "metadata": {
        "button": false,
        "deletable": true,
        "new_sheet": false,
        "run_control": {
          "read_only": false
        },
        "id": "Q-MvhL1MoiwT",
        "colab_type": "text"
      },
      "source": [
        "### Import necessary Libraries"
      ]
    },
    {
      "cell_type": "code",
      "metadata": {
        "button": false,
        "deletable": true,
        "jupyter": {
          "outputs_hidden": false
        },
        "new_sheet": false,
        "run_control": {
          "read_only": false
        },
        "id": "AKdnaLWOoiwf",
        "colab_type": "code",
        "outputId": "d9cdd832-1dac-4c2d-a1a1-74a40847b8df",
        "colab": {
          "base_uri": "https://localhost:8080/",
          "height": 51
        }
      },
      "source": [
        "import requests # library to handle requests\n",
        "import pandas as pd # library for data analsysis\n",
        "import numpy as np # library to handle data in a vectorized manner\n",
        "import random # library for random number generation\n",
        "\n",
        "from geopy.geocoders import Nominatim # module to convert an address into latitude and longitude values\n",
        "\n",
        "# libraries for displaying images\n",
        "from IPython.display import Image \n",
        "from IPython.core.display import HTML \n",
        "    \n",
        "# tranforming json file into a pandas dataframe library\n",
        "from pandas.io.json import json_normalize\n",
        "\n",
        "import folium # plotting library\n",
        "\n",
        "print('Folium installed')\n",
        "print('Libraries imported.')"
      ],
      "execution_count": 0,
      "outputs": [
        {
          "output_type": "stream",
          "text": [
            "Folium installed\n",
            "Libraries imported.\n"
          ],
          "name": "stdout"
        }
      ]
    },
    {
      "cell_type": "markdown",
      "metadata": {
        "button": false,
        "deletable": true,
        "new_sheet": false,
        "run_control": {
          "read_only": false
        },
        "id": "pZPoRLl1oixN",
        "colab_type": "text"
      },
      "source": [
        "### Define Foursquare Credentials and Version"
      ]
    },
    {
      "cell_type": "markdown",
      "metadata": {
        "button": false,
        "deletable": true,
        "new_sheet": false,
        "run_control": {
          "read_only": false
        },
        "id": "plAtp3ZboixX",
        "colab_type": "text"
      },
      "source": [
        "##### Make sure that you have created a Foursquare developer account and have your credentials handy"
      ]
    },
    {
      "cell_type": "code",
      "metadata": {
        "button": false,
        "deletable": true,
        "jupyter": {
          "outputs_hidden": false
        },
        "new_sheet": false,
        "run_control": {
          "read_only": false
        },
        "id": "AGgf7bOJoixl",
        "colab_type": "code",
        "outputId": "e98ca434-5948-4000-9bd4-0129aabb053f",
        "colab": {
          "base_uri": "https://localhost:8080/",
          "height": 68
        }
      },
      "source": [
        "CLIENT_ID = 'GJE0I1OSMRPDIGFYRJBT5V30MPRPJZB4PKPPDRW5KPKQQZAF' # your Foursquare ID\n",
        "CLIENT_SECRET = '1AQKBNKEOE1WRBIO2S5I2ZPZCZ3MNYQTJYXEIZ34PJVEUDNA' # your Foursquare Secret\n",
        "VERSION = '20180604'\n",
        "LIMIT = 30\n",
        "print('Your credentails:')\n",
        "print('CLIENT_ID: ' + CLIENT_ID)\n",
        "print('CLIENT_SECRET:' + CLIENT_SECRET)"
      ],
      "execution_count": 0,
      "outputs": [
        {
          "output_type": "stream",
          "text": [
            "Your credentails:\n",
            "CLIENT_ID: GJE0I1OSMRPDIGFYRJBT5V30MPRPJZB4PKPPDRW5KPKQQZAF\n",
            "CLIENT_SECRET:1AQKBNKEOE1WRBIO2S5I2ZPZCZ3MNYQTJYXEIZ34PJVEUDNA\n"
          ],
          "name": "stdout"
        }
      ]
    },
    {
      "cell_type": "markdown",
      "metadata": {
        "button": false,
        "deletable": true,
        "new_sheet": false,
        "run_control": {
          "read_only": false
        },
        "id": "FqxbfXxdoix2",
        "colab_type": "text"
      },
      "source": [
        "  "
      ]
    },
    {
      "cell_type": "markdown",
      "metadata": {
        "button": false,
        "deletable": true,
        "new_sheet": false,
        "run_control": {
          "read_only": false
        },
        "id": "rZY9PgKxoix6",
        "colab_type": "text"
      },
      "source": [
        "#### Let's again assume that you are staying at the Conrad hotel. So let's start by converting the Contrad Hotel's address to its latitude and longitude coordinates."
      ]
    },
    {
      "cell_type": "markdown",
      "metadata": {
        "id": "TNNxMmLmoiyA",
        "colab_type": "text"
      },
      "source": [
        "In order to define an instance of the geocoder, we need to define a user_agent. We will name our agent <em>foursquare_agent</em>, as shown below."
      ]
    },
    {
      "cell_type": "code",
      "metadata": {
        "button": false,
        "deletable": true,
        "jupyter": {
          "outputs_hidden": false
        },
        "new_sheet": false,
        "run_control": {
          "read_only": false
        },
        "id": "8mttlTWmoiyF",
        "colab_type": "code",
        "outputId": "7fa6e63c-236b-46a8-8afe-0db0c79d4e17",
        "colab": {
          "base_uri": "https://localhost:8080/",
          "height": 34
        }
      },
      "source": [
        "address = 'Bangalore,karnataka,India'\n",
        "\n",
        "geolocator = Nominatim(user_agent=\"foursquare_agent\")\n",
        "location = geolocator.geocode(address)\n",
        "latitude = location.latitude\n",
        "longitude = location.longitude\n",
        "print(latitude, longitude)"
      ],
      "execution_count": 0,
      "outputs": [
        {
          "output_type": "stream",
          "text": [
            "12.9791198 77.5912997\n"
          ],
          "name": "stdout"
        }
      ]
    },
    {
      "cell_type": "code",
      "metadata": {
        "button": false,
        "deletable": true,
        "jupyter": {
          "outputs_hidden": false
        },
        "new_sheet": false,
        "run_control": {
          "read_only": false
        },
        "scrolled": true,
        "id": "tS6aCgtIoiyz",
        "colab_type": "code",
        "outputId": "b9c986bf-2f67-47db-f4c8-8f7d82563d92",
        "colab": {
          "base_uri": "https://localhost:8080/",
          "height": 34
        }
      },
      "source": [
        "search_query = 'Stories'\n",
        "radius = 100000\n",
        "print(search_query + ' .... OK!')"
      ],
      "execution_count": 0,
      "outputs": [
        {
          "output_type": "stream",
          "text": [
            "Stories .... OK!\n"
          ],
          "name": "stdout"
        }
      ]
    },
    {
      "cell_type": "code",
      "metadata": {
        "button": false,
        "deletable": true,
        "jupyter": {
          "outputs_hidden": false
        },
        "new_sheet": false,
        "run_control": {
          "read_only": false
        },
        "id": "033_JFBloizF",
        "colab_type": "code",
        "outputId": "0e895a67-a904-43fb-ea9b-4ca4b943751a",
        "colab": {
          "base_uri": "https://localhost:8080/",
          "height": 54
        }
      },
      "source": [
        "url = 'https://api.foursquare.com/v2/venues/search?client_id={}&client_secret={}&ll={},{}&v={}&query={}&radius={}&limit={}'.format(CLIENT_ID, CLIENT_SECRET, latitude, longitude, VERSION, search_query, radius, LIMIT)\n",
        "url"
      ],
      "execution_count": 0,
      "outputs": [
        {
          "output_type": "execute_result",
          "data": {
            "text/plain": [
              "'https://api.foursquare.com/v2/venues/search?client_id=GJE0I1OSMRPDIGFYRJBT5V30MPRPJZB4PKPPDRW5KPKQQZAF&client_secret=1AQKBNKEOE1WRBIO2S5I2ZPZCZ3MNYQTJYXEIZ34PJVEUDNA&ll=12.9791198,77.5912997&v=20180604&query=Stories&radius=100000&limit=30'"
            ]
          },
          "metadata": {
            "tags": []
          },
          "execution_count": 27
        }
      ]
    },
    {
      "cell_type": "markdown",
      "metadata": {
        "button": false,
        "deletable": true,
        "new_sheet": false,
        "run_control": {
          "read_only": false
        },
        "id": "_XJuw84qoizV",
        "colab_type": "text"
      },
      "source": [
        "#### Send the GET Request and examine the results"
      ]
    },
    {
      "cell_type": "code",
      "metadata": {
        "button": false,
        "deletable": true,
        "jupyter": {
          "outputs_hidden": false
        },
        "new_sheet": false,
        "run_control": {
          "read_only": false
        },
        "scrolled": true,
        "id": "EO3AXb6Boizf",
        "colab_type": "code",
        "outputId": "d1101b43-a650-4e0e-f3e8-e88b7cf6c535",
        "colab": {
          "base_uri": "https://localhost:8080/",
          "height": 1000
        }
      },
      "source": [
        "results = requests.get(url).json()\n",
        "results"
      ],
      "execution_count": 0,
      "outputs": [
        {
          "output_type": "execute_result",
          "data": {
            "text/plain": [
              "{'meta': {'code': 200, 'requestId': '5e68ded6b4b684001bed7e06'},\n",
              " 'response': {'venues': [{'categories': [{'icon': {'prefix': 'https://ss3.4sqi.net/img/categories_v2/food/dessert_',\n",
              "       'suffix': '.png'},\n",
              "      'id': '4bf58dd8d48988d1d0941735',\n",
              "      'name': 'Dessert Shop',\n",
              "      'pluralName': 'Dessert Shops',\n",
              "      'primary': True,\n",
              "      'shortName': 'Desserts'}],\n",
              "    'hasPerk': False,\n",
              "    'id': '566c106538fa37fd4771ab5d',\n",
              "    'location': {'address': 'Church Street,',\n",
              "     'cc': 'IN',\n",
              "     'city': 'Bangalore',\n",
              "     'country': 'India',\n",
              "     'crossStreet': 'M G road',\n",
              "     'distance': 1864,\n",
              "     'formattedAddress': ['Church Street, (M G road)',\n",
              "      'Bangalore',\n",
              "      'Karnātaka',\n",
              "      'India'],\n",
              "     'labeledLatLngs': [{'label': 'display',\n",
              "       'lat': 12.973381632849927,\n",
              "       'lng': 77.60744799600621}],\n",
              "     'lat': 12.973381632849927,\n",
              "     'lng': 77.60744799600621,\n",
              "     'state': 'Karnātaka'},\n",
              "    'name': 'Waffle stories',\n",
              "    'referralId': 'v-1583931270'},\n",
              "   {'categories': [{'icon': {'prefix': 'https://ss3.4sqi.net/img/categories_v2/nightlife/pub_',\n",
              "       'suffix': '.png'},\n",
              "      'id': '56aa371ce4b08b9a8d57356c',\n",
              "      'name': 'Beer Bar',\n",
              "      'pluralName': 'Beer Bars',\n",
              "      'primary': True,\n",
              "      'shortName': 'Beer Bar'}],\n",
              "    'hasPerk': False,\n",
              "    'id': '5acce68067e5f23527ed1563',\n",
              "    'location': {'cc': 'IN',\n",
              "     'city': 'Bangalore',\n",
              "     'country': 'India',\n",
              "     'distance': 5629,\n",
              "     'formattedAddress': ['Bangalore 560022', 'Karnātaka', 'India'],\n",
              "     'labeledLatLngs': [{'label': 'display',\n",
              "       'lat': 13.008568,\n",
              "       'lng': 77.549108}],\n",
              "     'lat': 13.008568,\n",
              "     'lng': 77.549108,\n",
              "     'postalCode': '560022',\n",
              "     'state': 'Karnātaka'},\n",
              "    'name': 'Stories',\n",
              "    'referralId': 'v-1583931270'},\n",
              "   {'categories': [{'icon': {'prefix': 'https://ss3.4sqi.net/img/categories_v2/shops/furniture_',\n",
              "       'suffix': '.png'},\n",
              "      'id': '4bf58dd8d48988d1f8941735',\n",
              "      'name': 'Furniture / Home Store',\n",
              "      'pluralName': 'Furniture / Home Stores',\n",
              "      'primary': True,\n",
              "      'shortName': 'Furniture / Home'}],\n",
              "    'hasPerk': False,\n",
              "    'id': '580b1c6238fafba1ef6697a6',\n",
              "    'location': {'cc': 'IN',\n",
              "     'country': 'India',\n",
              "     'distance': 5714,\n",
              "     'formattedAddress': ['India'],\n",
              "     'labeledLatLngs': [{'label': 'display',\n",
              "       'lat': 12.96416,\n",
              "       'lng': 77.641696}],\n",
              "     'lat': 12.96416,\n",
              "     'lng': 77.641696},\n",
              "    'name': 'Stories',\n",
              "    'referralId': 'v-1583931270'},\n",
              "   {'categories': [{'icon': {'prefix': 'https://ss3.4sqi.net/img/categories_v2/food/cafe_',\n",
              "       'suffix': '.png'},\n",
              "      'id': '4bf58dd8d48988d16d941735',\n",
              "      'name': 'Café',\n",
              "      'pluralName': 'Cafés',\n",
              "      'primary': True,\n",
              "      'shortName': 'Café'}],\n",
              "    'hasPerk': False,\n",
              "    'id': '59da32803fcee87d2abd578b',\n",
              "    'location': {'cc': 'IN',\n",
              "     'city': 'Bangalore',\n",
              "     'country': 'India',\n",
              "     'distance': 7329,\n",
              "     'formattedAddress': ['Bangalore 560040', 'Karnātaka', 'India'],\n",
              "     'labeledLatLngs': [{'label': 'display',\n",
              "       'lat': 12.913482,\n",
              "       'lng': 77.585976}],\n",
              "     'lat': 12.913482,\n",
              "     'lng': 77.585976,\n",
              "     'postalCode': '560040',\n",
              "     'state': 'Karnātaka'},\n",
              "    'name': 'Stories',\n",
              "    'referralId': 'v-1583931270'},\n",
              "   {'categories': [{'icon': {'prefix': 'https://ss3.4sqi.net/img/categories_v2/nightlife/pub_',\n",
              "       'suffix': '.png'},\n",
              "      'id': '4bf58dd8d48988d11b941735',\n",
              "      'name': 'Pub',\n",
              "      'pluralName': 'Pubs',\n",
              "      'primary': True,\n",
              "      'shortName': 'Pub'}],\n",
              "    'hasPerk': False,\n",
              "    'id': '5cf7d4af8fb09e0039f30e93',\n",
              "    'location': {'cc': 'IN',\n",
              "     'city': 'Bangalore',\n",
              "     'country': 'India',\n",
              "     'distance': 8374,\n",
              "     'formattedAddress': ['Bangalore 560076', 'Karnātaka', 'India'],\n",
              "     'labeledLatLngs': [{'label': 'display',\n",
              "       'lat': 12.905774,\n",
              "       'lng': 77.60847}],\n",
              "     'lat': 12.905774,\n",
              "     'lng': 77.60847,\n",
              "     'postalCode': '560076',\n",
              "     'state': 'Karnātaka'},\n",
              "    'name': 'Stories: The Brew Chapter',\n",
              "    'referralId': 'v-1583931270'},\n",
              "   {'categories': [{'icon': {'prefix': 'https://ss3.4sqi.net/img/categories_v2/shops/furniture_',\n",
              "       'suffix': '.png'},\n",
              "      'id': '4bf58dd8d48988d1f8941735',\n",
              "      'name': 'Furniture / Home Store',\n",
              "      'pluralName': 'Furniture / Home Stores',\n",
              "      'primary': True,\n",
              "      'shortName': 'Furniture / Home'}],\n",
              "    'hasPerk': False,\n",
              "    'id': '5c78c5e6b9a5a8002cfac38e',\n",
              "    'location': {'address': 'Dr Rakjumar Road',\n",
              "     'cc': 'IN',\n",
              "     'city': 'Bangalore',\n",
              "     'country': 'India',\n",
              "     'crossStreet': 'Rajajinagar',\n",
              "     'distance': 5450,\n",
              "     'formattedAddress': ['Dr Rakjumar Road (Rajajinagar)',\n",
              "      'Bangalore 560055',\n",
              "      'Karnātaka',\n",
              "      'India'],\n",
              "     'labeledLatLngs': [{'label': 'display',\n",
              "       'lat': 13.012443,\n",
              "       'lng': 77.554478}],\n",
              "     'lat': 13.012443,\n",
              "     'lng': 77.554478,\n",
              "     'postalCode': '560055',\n",
              "     'state': 'Karnātaka'},\n",
              "    'name': 'Stories Homes',\n",
              "    'referralId': 'v-1583931270'},\n",
              "   {'categories': [{'icon': {'prefix': 'https://ss3.4sqi.net/img/categories_v2/shops/furniture_',\n",
              "       'suffix': '.png'},\n",
              "      'id': '4bf58dd8d48988d1f8941735',\n",
              "      'name': 'Furniture / Home Store',\n",
              "      'pluralName': 'Furniture / Home Stores',\n",
              "      'primary': True,\n",
              "      'shortName': 'Furniture / Home'}],\n",
              "    'hasPerk': False,\n",
              "    'id': '5e185c94e7d6b8000868935b',\n",
              "    'location': {'address': '2004, 100 Feet Rd, HAL 2nd Stage',\n",
              "     'cc': 'IN',\n",
              "     'city': 'Bangalore',\n",
              "     'country': 'India',\n",
              "     'crossStreet': 'Indiranagar',\n",
              "     'distance': 5722,\n",
              "     'formattedAddress': ['2004, 100 Feet Rd, HAL 2nd Stage (Indiranagar)',\n",
              "      'Bangalore 560008',\n",
              "      'Karnātaka',\n",
              "      'India'],\n",
              "     'labeledLatLngs': [{'label': 'display',\n",
              "       'lat': 12.964386290092728,\n",
              "       'lng': 77.6418399810791}],\n",
              "     'lat': 12.964386290092728,\n",
              "     'lng': 77.6418399810791,\n",
              "     'postalCode': '560008',\n",
              "     'state': 'Karnātaka'},\n",
              "    'name': 'STORIES - Global Home Concepts',\n",
              "    'referralId': 'v-1583931270'},\n",
              "   {'categories': [{'icon': {'prefix': 'https://ss3.4sqi.net/img/categories_v2/food/default_',\n",
              "       'suffix': '.png'},\n",
              "      'id': '4bf58dd8d48988d14e941735',\n",
              "      'name': 'American Restaurant',\n",
              "      'pluralName': 'American Restaurants',\n",
              "      'primary': True,\n",
              "      'shortName': 'American'}],\n",
              "    'hasPerk': False,\n",
              "    'id': '53cf7195498e6ad2a8c98802',\n",
              "    'location': {'address': 'Food Court Orion Mall',\n",
              "     'cc': 'IN',\n",
              "     'country': 'India',\n",
              "     'distance': 5305,\n",
              "     'formattedAddress': ['Food Court Orion Mall', 'India'],\n",
              "     'labeledLatLngs': [{'label': 'display',\n",
              "       'lat': 13.011242098041466,\n",
              "       'lng': 77.55516606257075}],\n",
              "     'lat': 13.011242098041466,\n",
              "     'lng': 77.55516606257075},\n",
              "    'name': 'waffle stories',\n",
              "    'referralId': 'v-1583931270'},\n",
              "   {'categories': [{'icon': {'prefix': 'https://ss3.4sqi.net/img/categories_v2/food/dessert_',\n",
              "       'suffix': '.png'},\n",
              "      'id': '4bf58dd8d48988d1d0941735',\n",
              "      'name': 'Dessert Shop',\n",
              "      'pluralName': 'Dessert Shops',\n",
              "      'primary': True,\n",
              "      'shortName': 'Desserts'}],\n",
              "    'hasPerk': False,\n",
              "    'id': '57b87433498e9b2669fead04',\n",
              "    'location': {'cc': 'IN',\n",
              "     'country': 'India',\n",
              "     'distance': 5321,\n",
              "     'formattedAddress': ['India'],\n",
              "     'labeledLatLngs': [{'label': 'display',\n",
              "       'lat': 13.011263,\n",
              "       'lng': 77.55498}],\n",
              "     'lat': 13.011263,\n",
              "     'lng': 77.55498},\n",
              "    'name': 'Waffle Stories',\n",
              "    'referralId': 'v-1583931270'},\n",
              "   {'categories': [{'icon': {'prefix': 'https://ss3.4sqi.net/img/categories_v2/food/dessert_',\n",
              "       'suffix': '.png'},\n",
              "      'id': '4bf58dd8d48988d1d0941735',\n",
              "      'name': 'Dessert Shop',\n",
              "      'pluralName': 'Dessert Shops',\n",
              "      'primary': True,\n",
              "      'shortName': 'Desserts'}],\n",
              "    'hasPerk': False,\n",
              "    'id': '5842d31a876ade32f73fbbe7',\n",
              "    'location': {'address': 'Orion East Mall',\n",
              "     'cc': 'IN',\n",
              "     'city': 'Bangalore',\n",
              "     'country': 'India',\n",
              "     'distance': 5189,\n",
              "     'formattedAddress': ['Orion East Mall',\n",
              "      'Bangalore 560033',\n",
              "      'Karnātaka',\n",
              "      'India'],\n",
              "     'labeledLatLngs': [{'label': 'display',\n",
              "       'lat': 13.001918,\n",
              "       'lng': 77.63303}],\n",
              "     'lat': 13.001918,\n",
              "     'lng': 77.63303,\n",
              "     'postalCode': '560033',\n",
              "     'state': 'Karnātaka'},\n",
              "    'name': 'Waffle Stories',\n",
              "    'referralId': 'v-1583931270'},\n",
              "   {'categories': [{'icon': {'prefix': 'https://ss3.4sqi.net/img/categories_v2/food/default_',\n",
              "       'suffix': '.png'},\n",
              "      'id': '4bf58dd8d48988d1c4941735',\n",
              "      'name': 'Restaurant',\n",
              "      'pluralName': 'Restaurants',\n",
              "      'primary': True,\n",
              "      'shortName': 'Restaurant'}],\n",
              "    'hasPerk': False,\n",
              "    'id': '57090bde498e269d1276de9f',\n",
              "    'location': {'address': 'First Floor',\n",
              "     'cc': 'IN',\n",
              "     'city': 'Bangalore',\n",
              "     'country': 'India',\n",
              "     'crossStreet': '80 Feet Road Indiranagar',\n",
              "     'distance': 6073,\n",
              "     'formattedAddress': ['First Floor (80 Feet Road Indiranagar)',\n",
              "      'Bangalore 560008',\n",
              "      'Karnātaka',\n",
              "      'India'],\n",
              "     'labeledLatLngs': [{'label': 'display',\n",
              "       'lat': 12.972957,\n",
              "       'lng': 77.64693}],\n",
              "     'lat': 12.972957,\n",
              "     'lng': 77.64693,\n",
              "     'postalCode': '560008',\n",
              "     'state': 'Karnātaka'},\n",
              "    'name': 'Tasty Stories',\n",
              "    'referralId': 'v-1583931270'},\n",
              "   {'categories': [{'icon': {'prefix': 'https://ss3.4sqi.net/img/categories_v2/food/icecream_',\n",
              "       'suffix': '.png'},\n",
              "      'id': '4bf58dd8d48988d1c9941735',\n",
              "      'name': 'Ice Cream Shop',\n",
              "      'pluralName': 'Ice Cream Shops',\n",
              "      'primary': True,\n",
              "      'shortName': 'Ice Cream'}],\n",
              "    'hasPerk': False,\n",
              "    'id': '583081247ff1e43c1976a663',\n",
              "    'location': {'cc': 'IN',\n",
              "     'country': 'India',\n",
              "     'distance': 6114,\n",
              "     'formattedAddress': ['India'],\n",
              "     'labeledLatLngs': [{'label': 'display',\n",
              "       'lat': 12.924526,\n",
              "       'lng': 77.585112}],\n",
              "     'lat': 12.924526,\n",
              "     'lng': 77.585112},\n",
              "    'name': 'Waffle Stories',\n",
              "    'referralId': 'v-1583931270'},\n",
              "   {'categories': [{'icon': {'prefix': 'https://ss3.4sqi.net/img/categories_v2/food/dessert_',\n",
              "       'suffix': '.png'},\n",
              "      'id': '5744ccdfe4b0c0459246b4e2',\n",
              "      'name': 'Pastry Shop',\n",
              "      'pluralName': 'Pastry Shops',\n",
              "      'primary': True,\n",
              "      'shortName': 'Pastry'}],\n",
              "    'hasPerk': False,\n",
              "    'id': '5986cb35270ee749da471e5b',\n",
              "    'location': {'cc': 'IN',\n",
              "     'city': 'Bangalore',\n",
              "     'country': 'India',\n",
              "     'distance': 7297,\n",
              "     'formattedAddress': ['Bangalore 560043', 'Karnātaka', 'India'],\n",
              "     'labeledLatLngs': [{'label': 'display',\n",
              "       'lat': 13.025563,\n",
              "       'lng': 77.638786}],\n",
              "     'lat': 13.025563,\n",
              "     'lng': 77.638786,\n",
              "     'postalCode': '560043',\n",
              "     'state': 'Karnātaka'},\n",
              "    'name': 'Mugful Of Stories',\n",
              "    'referralId': 'v-1583931270'},\n",
              "   {'categories': [{'icon': {'prefix': 'https://ss3.4sqi.net/img/categories_v2/food/dessert_',\n",
              "       'suffix': '.png'},\n",
              "      'id': '4bf58dd8d48988d1d0941735',\n",
              "      'name': 'Dessert Shop',\n",
              "      'pluralName': 'Dessert Shops',\n",
              "      'primary': True,\n",
              "      'shortName': 'Desserts'}],\n",
              "    'hasPerk': False,\n",
              "    'id': '5ad77a5ee96d0c6ff669119e',\n",
              "    'location': {'cc': 'IN',\n",
              "     'city': 'Bangalore',\n",
              "     'country': 'India',\n",
              "     'distance': 7425,\n",
              "     'formattedAddress': ['Bangalore 560076', 'Karnātaka', 'India'],\n",
              "     'labeledLatLngs': [{'label': 'display',\n",
              "       'lat': 12.913423,\n",
              "       'lng': 77.603165}],\n",
              "     'lat': 12.913423,\n",
              "     'lng': 77.603165,\n",
              "     'postalCode': '560076',\n",
              "     'state': 'Karnātaka'},\n",
              "    'name': 'Waffle Stories',\n",
              "    'referralId': 'v-1583931270'},\n",
              "   {'categories': [{'icon': {'prefix': 'https://ss3.4sqi.net/img/categories_v2/food/dessert_',\n",
              "       'suffix': '.png'},\n",
              "      'id': '4bf58dd8d48988d1d0941735',\n",
              "      'name': 'Dessert Shop',\n",
              "      'pluralName': 'Dessert Shops',\n",
              "      'primary': True,\n",
              "      'shortName': 'Desserts'}],\n",
              "    'hasPerk': False,\n",
              "    'id': '5d57e604ddd01700082ef9fa',\n",
              "    'location': {'cc': 'IN',\n",
              "     'city': 'Bangalore',\n",
              "     'country': 'India',\n",
              "     'distance': 9473,\n",
              "     'formattedAddress': ['Bangalore 560102', 'Karnātaka', 'India'],\n",
              "     'labeledLatLngs': [{'label': 'display',\n",
              "       'lat': 12.917296,\n",
              "       'lng': 77.65131}],\n",
              "     'lat': 12.917296,\n",
              "     'lng': 77.65131,\n",
              "     'postalCode': '560102',\n",
              "     'state': 'Karnātaka'},\n",
              "    'name': 'Waffle Stories',\n",
              "    'referralId': 'v-1583931270'},\n",
              "   {'categories': [{'icon': {'prefix': 'https://ss3.4sqi.net/img/categories_v2/food/default_',\n",
              "       'suffix': '.png'},\n",
              "      'id': '4bf58dd8d48988d1c4941735',\n",
              "      'name': 'Restaurant',\n",
              "      'pluralName': 'Restaurants',\n",
              "      'primary': True,\n",
              "      'shortName': 'Restaurant'}],\n",
              "    'hasPerk': False,\n",
              "    'id': '5d0f58fa94dd8b00232fe3b8',\n",
              "    'location': {'address': 'Ambalipura, Opposite Opus',\n",
              "     'cc': 'IN',\n",
              "     'city': 'Bangalore',\n",
              "     'country': 'India',\n",
              "     'crossStreet': 'Off Haralur Road',\n",
              "     'distance': 10793,\n",
              "     'formattedAddress': ['Ambalipura, Opposite Opus (Off Haralur Road)',\n",
              "      'Bangalore 560103',\n",
              "      'Karnātaka',\n",
              "      'India'],\n",
              "     'labeledLatLngs': [{'label': 'display',\n",
              "       'lat': 12.915167,\n",
              "       'lng': 77.66608}],\n",
              "     'lat': 12.915167,\n",
              "     'lng': 77.66608,\n",
              "     'postalCode': '560103',\n",
              "     'state': 'Karnātaka'},\n",
              "    'name': 'Opus Food Stories',\n",
              "    'referralId': 'v-1583931270'}]}}"
            ]
          },
          "metadata": {
            "tags": []
          },
          "execution_count": 28
        }
      ]
    },
    {
      "cell_type": "markdown",
      "metadata": {
        "button": false,
        "deletable": true,
        "new_sheet": false,
        "run_control": {
          "read_only": false
        },
        "id": "Nxvt6ppRoiz2",
        "colab_type": "text"
      },
      "source": [
        "#### Get relevant part of JSON and transform it into a *pandas* dataframe"
      ]
    },
    {
      "cell_type": "code",
      "metadata": {
        "button": false,
        "deletable": true,
        "jupyter": {
          "outputs_hidden": false
        },
        "new_sheet": false,
        "run_control": {
          "read_only": false
        },
        "id": "LRvea1Wloiz5",
        "colab_type": "code",
        "outputId": "8c7f22d2-8ac8-42ab-b13e-35762df4b89e",
        "colab": {
          "base_uri": "https://localhost:8080/",
          "height": 411
        }
      },
      "source": [
        "# assign relevant part of JSON to venues\n",
        "venues = results['response']['venues']\n",
        "\n",
        "# tranform venues into a dataframe\n",
        "dataframe = json_normalize(venues)\n",
        "dataframe.head()"
      ],
      "execution_count": 0,
      "outputs": [
        {
          "output_type": "execute_result",
          "data": {
            "text/html": [
              "<div>\n",
              "<style scoped>\n",
              "    .dataframe tbody tr th:only-of-type {\n",
              "        vertical-align: middle;\n",
              "    }\n",
              "\n",
              "    .dataframe tbody tr th {\n",
              "        vertical-align: top;\n",
              "    }\n",
              "\n",
              "    .dataframe thead th {\n",
              "        text-align: right;\n",
              "    }\n",
              "</style>\n",
              "<table border=\"1\" class=\"dataframe\">\n",
              "  <thead>\n",
              "    <tr style=\"text-align: right;\">\n",
              "      <th></th>\n",
              "      <th>id</th>\n",
              "      <th>name</th>\n",
              "      <th>categories</th>\n",
              "      <th>referralId</th>\n",
              "      <th>hasPerk</th>\n",
              "      <th>location.address</th>\n",
              "      <th>location.crossStreet</th>\n",
              "      <th>location.lat</th>\n",
              "      <th>location.lng</th>\n",
              "      <th>location.labeledLatLngs</th>\n",
              "      <th>location.distance</th>\n",
              "      <th>location.cc</th>\n",
              "      <th>location.city</th>\n",
              "      <th>location.state</th>\n",
              "      <th>location.country</th>\n",
              "      <th>location.formattedAddress</th>\n",
              "      <th>location.postalCode</th>\n",
              "    </tr>\n",
              "  </thead>\n",
              "  <tbody>\n",
              "    <tr>\n",
              "      <th>0</th>\n",
              "      <td>566c106538fa37fd4771ab5d</td>\n",
              "      <td>Waffle stories</td>\n",
              "      <td>[{'id': '4bf58dd8d48988d1d0941735', 'name': 'D...</td>\n",
              "      <td>v-1583931270</td>\n",
              "      <td>False</td>\n",
              "      <td>Church Street,</td>\n",
              "      <td>M G road</td>\n",
              "      <td>12.973382</td>\n",
              "      <td>77.607448</td>\n",
              "      <td>[{'label': 'display', 'lat': 12.97338163284992...</td>\n",
              "      <td>1864</td>\n",
              "      <td>IN</td>\n",
              "      <td>Bangalore</td>\n",
              "      <td>Karnātaka</td>\n",
              "      <td>India</td>\n",
              "      <td>[Church Street, (M G road), Bangalore, Karnāta...</td>\n",
              "      <td>NaN</td>\n",
              "    </tr>\n",
              "    <tr>\n",
              "      <th>1</th>\n",
              "      <td>5acce68067e5f23527ed1563</td>\n",
              "      <td>Stories</td>\n",
              "      <td>[{'id': '56aa371ce4b08b9a8d57356c', 'name': 'B...</td>\n",
              "      <td>v-1583931270</td>\n",
              "      <td>False</td>\n",
              "      <td>NaN</td>\n",
              "      <td>NaN</td>\n",
              "      <td>13.008568</td>\n",
              "      <td>77.549108</td>\n",
              "      <td>[{'label': 'display', 'lat': 13.008568, 'lng':...</td>\n",
              "      <td>5629</td>\n",
              "      <td>IN</td>\n",
              "      <td>Bangalore</td>\n",
              "      <td>Karnātaka</td>\n",
              "      <td>India</td>\n",
              "      <td>[Bangalore 560022, Karnātaka, India]</td>\n",
              "      <td>560022</td>\n",
              "    </tr>\n",
              "    <tr>\n",
              "      <th>2</th>\n",
              "      <td>580b1c6238fafba1ef6697a6</td>\n",
              "      <td>Stories</td>\n",
              "      <td>[{'id': '4bf58dd8d48988d1f8941735', 'name': 'F...</td>\n",
              "      <td>v-1583931270</td>\n",
              "      <td>False</td>\n",
              "      <td>NaN</td>\n",
              "      <td>NaN</td>\n",
              "      <td>12.964160</td>\n",
              "      <td>77.641696</td>\n",
              "      <td>[{'label': 'display', 'lat': 12.96416, 'lng': ...</td>\n",
              "      <td>5714</td>\n",
              "      <td>IN</td>\n",
              "      <td>NaN</td>\n",
              "      <td>NaN</td>\n",
              "      <td>India</td>\n",
              "      <td>[India]</td>\n",
              "      <td>NaN</td>\n",
              "    </tr>\n",
              "    <tr>\n",
              "      <th>3</th>\n",
              "      <td>59da32803fcee87d2abd578b</td>\n",
              "      <td>Stories</td>\n",
              "      <td>[{'id': '4bf58dd8d48988d16d941735', 'name': 'C...</td>\n",
              "      <td>v-1583931270</td>\n",
              "      <td>False</td>\n",
              "      <td>NaN</td>\n",
              "      <td>NaN</td>\n",
              "      <td>12.913482</td>\n",
              "      <td>77.585976</td>\n",
              "      <td>[{'label': 'display', 'lat': 12.913482, 'lng':...</td>\n",
              "      <td>7329</td>\n",
              "      <td>IN</td>\n",
              "      <td>Bangalore</td>\n",
              "      <td>Karnātaka</td>\n",
              "      <td>India</td>\n",
              "      <td>[Bangalore 560040, Karnātaka, India]</td>\n",
              "      <td>560040</td>\n",
              "    </tr>\n",
              "    <tr>\n",
              "      <th>4</th>\n",
              "      <td>5cf7d4af8fb09e0039f30e93</td>\n",
              "      <td>Stories: The Brew Chapter</td>\n",
              "      <td>[{'id': '4bf58dd8d48988d11b941735', 'name': 'P...</td>\n",
              "      <td>v-1583931270</td>\n",
              "      <td>False</td>\n",
              "      <td>NaN</td>\n",
              "      <td>NaN</td>\n",
              "      <td>12.905774</td>\n",
              "      <td>77.608470</td>\n",
              "      <td>[{'label': 'display', 'lat': 12.905774, 'lng':...</td>\n",
              "      <td>8374</td>\n",
              "      <td>IN</td>\n",
              "      <td>Bangalore</td>\n",
              "      <td>Karnātaka</td>\n",
              "      <td>India</td>\n",
              "      <td>[Bangalore 560076, Karnātaka, India]</td>\n",
              "      <td>560076</td>\n",
              "    </tr>\n",
              "  </tbody>\n",
              "</table>\n",
              "</div>"
            ],
            "text/plain": [
              "                         id  ... location.postalCode\n",
              "0  566c106538fa37fd4771ab5d  ...                 NaN\n",
              "1  5acce68067e5f23527ed1563  ...              560022\n",
              "2  580b1c6238fafba1ef6697a6  ...                 NaN\n",
              "3  59da32803fcee87d2abd578b  ...              560040\n",
              "4  5cf7d4af8fb09e0039f30e93  ...              560076\n",
              "\n",
              "[5 rows x 17 columns]"
            ]
          },
          "metadata": {
            "tags": []
          },
          "execution_count": 29
        }
      ]
    },
    {
      "cell_type": "markdown",
      "metadata": {
        "button": false,
        "deletable": true,
        "new_sheet": false,
        "run_control": {
          "read_only": false
        },
        "id": "7mT1lkPyoi0I",
        "colab_type": "text"
      },
      "source": [
        "#### Define information of interest and filter dataframe"
      ]
    },
    {
      "cell_type": "code",
      "metadata": {
        "button": false,
        "deletable": true,
        "jupyter": {
          "outputs_hidden": false
        },
        "new_sheet": false,
        "run_control": {
          "read_only": false
        },
        "scrolled": true,
        "id": "mHtp082uoi0Q",
        "colab_type": "code",
        "outputId": "1a5e281d-baae-4db0-d0da-f2a7430c1864",
        "colab": {
          "base_uri": "https://localhost:8080/",
          "height": 973
        }
      },
      "source": [
        "# keep only columns that include venue name, and anything that is associated with location\n",
        "filtered_columns = ['name', 'categories'] + [col for col in dataframe.columns if col.startswith('location.')] + ['id']\n",
        "dataframe_filtered = dataframe.loc[:, filtered_columns]\n",
        "\n",
        "# function that extracts the category of the venue\n",
        "def get_category_type(row):\n",
        "    try:\n",
        "        categories_list = row['categories']\n",
        "    except:\n",
        "        categories_list = row['venue.categories']\n",
        "        \n",
        "    if len(categories_list) == 0:\n",
        "        return None\n",
        "    else:\n",
        "        return categories_list[0]['name']\n",
        "\n",
        "# filter the category for each row\n",
        "dataframe_filtered['categories'] = dataframe_filtered.apply(get_category_type, axis=1)\n",
        "\n",
        "# clean column names by keeping only last term\n",
        "dataframe_filtered.columns = [column.split('.')[-1] for column in dataframe_filtered.columns]\n",
        "\n",
        "dataframe_filtered"
      ],
      "execution_count": 0,
      "outputs": [
        {
          "output_type": "execute_result",
          "data": {
            "text/html": [
              "<div>\n",
              "<style scoped>\n",
              "    .dataframe tbody tr th:only-of-type {\n",
              "        vertical-align: middle;\n",
              "    }\n",
              "\n",
              "    .dataframe tbody tr th {\n",
              "        vertical-align: top;\n",
              "    }\n",
              "\n",
              "    .dataframe thead th {\n",
              "        text-align: right;\n",
              "    }\n",
              "</style>\n",
              "<table border=\"1\" class=\"dataframe\">\n",
              "  <thead>\n",
              "    <tr style=\"text-align: right;\">\n",
              "      <th></th>\n",
              "      <th>name</th>\n",
              "      <th>categories</th>\n",
              "      <th>address</th>\n",
              "      <th>crossStreet</th>\n",
              "      <th>lat</th>\n",
              "      <th>lng</th>\n",
              "      <th>labeledLatLngs</th>\n",
              "      <th>distance</th>\n",
              "      <th>cc</th>\n",
              "      <th>city</th>\n",
              "      <th>state</th>\n",
              "      <th>country</th>\n",
              "      <th>formattedAddress</th>\n",
              "      <th>postalCode</th>\n",
              "      <th>id</th>\n",
              "    </tr>\n",
              "  </thead>\n",
              "  <tbody>\n",
              "    <tr>\n",
              "      <th>0</th>\n",
              "      <td>Waffle stories</td>\n",
              "      <td>Dessert Shop</td>\n",
              "      <td>Church Street,</td>\n",
              "      <td>M G road</td>\n",
              "      <td>12.973382</td>\n",
              "      <td>77.607448</td>\n",
              "      <td>[{'label': 'display', 'lat': 12.97338163284992...</td>\n",
              "      <td>1864</td>\n",
              "      <td>IN</td>\n",
              "      <td>Bangalore</td>\n",
              "      <td>Karnātaka</td>\n",
              "      <td>India</td>\n",
              "      <td>[Church Street, (M G road), Bangalore, Karnāta...</td>\n",
              "      <td>NaN</td>\n",
              "      <td>566c106538fa37fd4771ab5d</td>\n",
              "    </tr>\n",
              "    <tr>\n",
              "      <th>1</th>\n",
              "      <td>Stories</td>\n",
              "      <td>Beer Bar</td>\n",
              "      <td>NaN</td>\n",
              "      <td>NaN</td>\n",
              "      <td>13.008568</td>\n",
              "      <td>77.549108</td>\n",
              "      <td>[{'label': 'display', 'lat': 13.008568, 'lng':...</td>\n",
              "      <td>5629</td>\n",
              "      <td>IN</td>\n",
              "      <td>Bangalore</td>\n",
              "      <td>Karnātaka</td>\n",
              "      <td>India</td>\n",
              "      <td>[Bangalore 560022, Karnātaka, India]</td>\n",
              "      <td>560022</td>\n",
              "      <td>5acce68067e5f23527ed1563</td>\n",
              "    </tr>\n",
              "    <tr>\n",
              "      <th>2</th>\n",
              "      <td>Stories</td>\n",
              "      <td>Furniture / Home Store</td>\n",
              "      <td>NaN</td>\n",
              "      <td>NaN</td>\n",
              "      <td>12.964160</td>\n",
              "      <td>77.641696</td>\n",
              "      <td>[{'label': 'display', 'lat': 12.96416, 'lng': ...</td>\n",
              "      <td>5714</td>\n",
              "      <td>IN</td>\n",
              "      <td>NaN</td>\n",
              "      <td>NaN</td>\n",
              "      <td>India</td>\n",
              "      <td>[India]</td>\n",
              "      <td>NaN</td>\n",
              "      <td>580b1c6238fafba1ef6697a6</td>\n",
              "    </tr>\n",
              "    <tr>\n",
              "      <th>3</th>\n",
              "      <td>Stories</td>\n",
              "      <td>Café</td>\n",
              "      <td>NaN</td>\n",
              "      <td>NaN</td>\n",
              "      <td>12.913482</td>\n",
              "      <td>77.585976</td>\n",
              "      <td>[{'label': 'display', 'lat': 12.913482, 'lng':...</td>\n",
              "      <td>7329</td>\n",
              "      <td>IN</td>\n",
              "      <td>Bangalore</td>\n",
              "      <td>Karnātaka</td>\n",
              "      <td>India</td>\n",
              "      <td>[Bangalore 560040, Karnātaka, India]</td>\n",
              "      <td>560040</td>\n",
              "      <td>59da32803fcee87d2abd578b</td>\n",
              "    </tr>\n",
              "    <tr>\n",
              "      <th>4</th>\n",
              "      <td>Stories: The Brew Chapter</td>\n",
              "      <td>Pub</td>\n",
              "      <td>NaN</td>\n",
              "      <td>NaN</td>\n",
              "      <td>12.905774</td>\n",
              "      <td>77.608470</td>\n",
              "      <td>[{'label': 'display', 'lat': 12.905774, 'lng':...</td>\n",
              "      <td>8374</td>\n",
              "      <td>IN</td>\n",
              "      <td>Bangalore</td>\n",
              "      <td>Karnātaka</td>\n",
              "      <td>India</td>\n",
              "      <td>[Bangalore 560076, Karnātaka, India]</td>\n",
              "      <td>560076</td>\n",
              "      <td>5cf7d4af8fb09e0039f30e93</td>\n",
              "    </tr>\n",
              "    <tr>\n",
              "      <th>5</th>\n",
              "      <td>Stories Homes</td>\n",
              "      <td>Furniture / Home Store</td>\n",
              "      <td>Dr Rakjumar Road</td>\n",
              "      <td>Rajajinagar</td>\n",
              "      <td>13.012443</td>\n",
              "      <td>77.554478</td>\n",
              "      <td>[{'label': 'display', 'lat': 13.012443, 'lng':...</td>\n",
              "      <td>5450</td>\n",
              "      <td>IN</td>\n",
              "      <td>Bangalore</td>\n",
              "      <td>Karnātaka</td>\n",
              "      <td>India</td>\n",
              "      <td>[Dr Rakjumar Road (Rajajinagar), Bangalore 560...</td>\n",
              "      <td>560055</td>\n",
              "      <td>5c78c5e6b9a5a8002cfac38e</td>\n",
              "    </tr>\n",
              "    <tr>\n",
              "      <th>6</th>\n",
              "      <td>STORIES - Global Home Concepts</td>\n",
              "      <td>Furniture / Home Store</td>\n",
              "      <td>2004, 100 Feet Rd, HAL 2nd Stage</td>\n",
              "      <td>Indiranagar</td>\n",
              "      <td>12.964386</td>\n",
              "      <td>77.641840</td>\n",
              "      <td>[{'label': 'display', 'lat': 12.96438629009272...</td>\n",
              "      <td>5722</td>\n",
              "      <td>IN</td>\n",
              "      <td>Bangalore</td>\n",
              "      <td>Karnātaka</td>\n",
              "      <td>India</td>\n",
              "      <td>[2004, 100 Feet Rd, HAL 2nd Stage (Indiranagar...</td>\n",
              "      <td>560008</td>\n",
              "      <td>5e185c94e7d6b8000868935b</td>\n",
              "    </tr>\n",
              "    <tr>\n",
              "      <th>7</th>\n",
              "      <td>waffle stories</td>\n",
              "      <td>American Restaurant</td>\n",
              "      <td>Food Court Orion Mall</td>\n",
              "      <td>NaN</td>\n",
              "      <td>13.011242</td>\n",
              "      <td>77.555166</td>\n",
              "      <td>[{'label': 'display', 'lat': 13.01124209804146...</td>\n",
              "      <td>5305</td>\n",
              "      <td>IN</td>\n",
              "      <td>NaN</td>\n",
              "      <td>NaN</td>\n",
              "      <td>India</td>\n",
              "      <td>[Food Court Orion Mall, India]</td>\n",
              "      <td>NaN</td>\n",
              "      <td>53cf7195498e6ad2a8c98802</td>\n",
              "    </tr>\n",
              "    <tr>\n",
              "      <th>8</th>\n",
              "      <td>Waffle Stories</td>\n",
              "      <td>Dessert Shop</td>\n",
              "      <td>NaN</td>\n",
              "      <td>NaN</td>\n",
              "      <td>13.011263</td>\n",
              "      <td>77.554980</td>\n",
              "      <td>[{'label': 'display', 'lat': 13.011263, 'lng':...</td>\n",
              "      <td>5321</td>\n",
              "      <td>IN</td>\n",
              "      <td>NaN</td>\n",
              "      <td>NaN</td>\n",
              "      <td>India</td>\n",
              "      <td>[India]</td>\n",
              "      <td>NaN</td>\n",
              "      <td>57b87433498e9b2669fead04</td>\n",
              "    </tr>\n",
              "    <tr>\n",
              "      <th>9</th>\n",
              "      <td>Waffle Stories</td>\n",
              "      <td>Dessert Shop</td>\n",
              "      <td>Orion East Mall</td>\n",
              "      <td>NaN</td>\n",
              "      <td>13.001918</td>\n",
              "      <td>77.633030</td>\n",
              "      <td>[{'label': 'display', 'lat': 13.001918, 'lng':...</td>\n",
              "      <td>5189</td>\n",
              "      <td>IN</td>\n",
              "      <td>Bangalore</td>\n",
              "      <td>Karnātaka</td>\n",
              "      <td>India</td>\n",
              "      <td>[Orion East Mall, Bangalore 560033, Karnātaka,...</td>\n",
              "      <td>560033</td>\n",
              "      <td>5842d31a876ade32f73fbbe7</td>\n",
              "    </tr>\n",
              "    <tr>\n",
              "      <th>10</th>\n",
              "      <td>Tasty Stories</td>\n",
              "      <td>Restaurant</td>\n",
              "      <td>First Floor</td>\n",
              "      <td>80 Feet Road Indiranagar</td>\n",
              "      <td>12.972957</td>\n",
              "      <td>77.646930</td>\n",
              "      <td>[{'label': 'display', 'lat': 12.972957, 'lng':...</td>\n",
              "      <td>6073</td>\n",
              "      <td>IN</td>\n",
              "      <td>Bangalore</td>\n",
              "      <td>Karnātaka</td>\n",
              "      <td>India</td>\n",
              "      <td>[First Floor (80 Feet Road Indiranagar), Banga...</td>\n",
              "      <td>560008</td>\n",
              "      <td>57090bde498e269d1276de9f</td>\n",
              "    </tr>\n",
              "    <tr>\n",
              "      <th>11</th>\n",
              "      <td>Waffle Stories</td>\n",
              "      <td>Ice Cream Shop</td>\n",
              "      <td>NaN</td>\n",
              "      <td>NaN</td>\n",
              "      <td>12.924526</td>\n",
              "      <td>77.585112</td>\n",
              "      <td>[{'label': 'display', 'lat': 12.924526, 'lng':...</td>\n",
              "      <td>6114</td>\n",
              "      <td>IN</td>\n",
              "      <td>NaN</td>\n",
              "      <td>NaN</td>\n",
              "      <td>India</td>\n",
              "      <td>[India]</td>\n",
              "      <td>NaN</td>\n",
              "      <td>583081247ff1e43c1976a663</td>\n",
              "    </tr>\n",
              "    <tr>\n",
              "      <th>12</th>\n",
              "      <td>Mugful Of Stories</td>\n",
              "      <td>Pastry Shop</td>\n",
              "      <td>NaN</td>\n",
              "      <td>NaN</td>\n",
              "      <td>13.025563</td>\n",
              "      <td>77.638786</td>\n",
              "      <td>[{'label': 'display', 'lat': 13.025563, 'lng':...</td>\n",
              "      <td>7297</td>\n",
              "      <td>IN</td>\n",
              "      <td>Bangalore</td>\n",
              "      <td>Karnātaka</td>\n",
              "      <td>India</td>\n",
              "      <td>[Bangalore 560043, Karnātaka, India]</td>\n",
              "      <td>560043</td>\n",
              "      <td>5986cb35270ee749da471e5b</td>\n",
              "    </tr>\n",
              "    <tr>\n",
              "      <th>13</th>\n",
              "      <td>Waffle Stories</td>\n",
              "      <td>Dessert Shop</td>\n",
              "      <td>NaN</td>\n",
              "      <td>NaN</td>\n",
              "      <td>12.913423</td>\n",
              "      <td>77.603165</td>\n",
              "      <td>[{'label': 'display', 'lat': 12.913423, 'lng':...</td>\n",
              "      <td>7425</td>\n",
              "      <td>IN</td>\n",
              "      <td>Bangalore</td>\n",
              "      <td>Karnātaka</td>\n",
              "      <td>India</td>\n",
              "      <td>[Bangalore 560076, Karnātaka, India]</td>\n",
              "      <td>560076</td>\n",
              "      <td>5ad77a5ee96d0c6ff669119e</td>\n",
              "    </tr>\n",
              "    <tr>\n",
              "      <th>14</th>\n",
              "      <td>Waffle Stories</td>\n",
              "      <td>Dessert Shop</td>\n",
              "      <td>NaN</td>\n",
              "      <td>NaN</td>\n",
              "      <td>12.917296</td>\n",
              "      <td>77.651310</td>\n",
              "      <td>[{'label': 'display', 'lat': 12.917296, 'lng':...</td>\n",
              "      <td>9473</td>\n",
              "      <td>IN</td>\n",
              "      <td>Bangalore</td>\n",
              "      <td>Karnātaka</td>\n",
              "      <td>India</td>\n",
              "      <td>[Bangalore 560102, Karnātaka, India]</td>\n",
              "      <td>560102</td>\n",
              "      <td>5d57e604ddd01700082ef9fa</td>\n",
              "    </tr>\n",
              "    <tr>\n",
              "      <th>15</th>\n",
              "      <td>Opus Food Stories</td>\n",
              "      <td>Restaurant</td>\n",
              "      <td>Ambalipura, Opposite Opus</td>\n",
              "      <td>Off Haralur Road</td>\n",
              "      <td>12.915167</td>\n",
              "      <td>77.666080</td>\n",
              "      <td>[{'label': 'display', 'lat': 12.915167, 'lng':...</td>\n",
              "      <td>10793</td>\n",
              "      <td>IN</td>\n",
              "      <td>Bangalore</td>\n",
              "      <td>Karnātaka</td>\n",
              "      <td>India</td>\n",
              "      <td>[Ambalipura, Opposite Opus (Off Haralur Road),...</td>\n",
              "      <td>560103</td>\n",
              "      <td>5d0f58fa94dd8b00232fe3b8</td>\n",
              "    </tr>\n",
              "  </tbody>\n",
              "</table>\n",
              "</div>"
            ],
            "text/plain": [
              "                              name  ...                        id\n",
              "0                   Waffle stories  ...  566c106538fa37fd4771ab5d\n",
              "1                          Stories  ...  5acce68067e5f23527ed1563\n",
              "2                          Stories  ...  580b1c6238fafba1ef6697a6\n",
              "3                          Stories  ...  59da32803fcee87d2abd578b\n",
              "4        Stories: The Brew Chapter  ...  5cf7d4af8fb09e0039f30e93\n",
              "5                    Stories Homes  ...  5c78c5e6b9a5a8002cfac38e\n",
              "6   STORIES - Global Home Concepts  ...  5e185c94e7d6b8000868935b\n",
              "7                   waffle stories  ...  53cf7195498e6ad2a8c98802\n",
              "8                   Waffle Stories  ...  57b87433498e9b2669fead04\n",
              "9                   Waffle Stories  ...  5842d31a876ade32f73fbbe7\n",
              "10                   Tasty Stories  ...  57090bde498e269d1276de9f\n",
              "11                  Waffle Stories  ...  583081247ff1e43c1976a663\n",
              "12               Mugful Of Stories  ...  5986cb35270ee749da471e5b\n",
              "13                  Waffle Stories  ...  5ad77a5ee96d0c6ff669119e\n",
              "14                  Waffle Stories  ...  5d57e604ddd01700082ef9fa\n",
              "15               Opus Food Stories  ...  5d0f58fa94dd8b00232fe3b8\n",
              "\n",
              "[16 rows x 15 columns]"
            ]
          },
          "metadata": {
            "tags": []
          },
          "execution_count": 30
        }
      ]
    },
    {
      "cell_type": "markdown",
      "metadata": {
        "button": false,
        "deletable": true,
        "new_sheet": false,
        "run_control": {
          "read_only": false
        },
        "id": "wl3Nol8Boi0i",
        "colab_type": "text"
      },
      "source": [
        "#### Let's visualize the Italian restaurants that are nearby"
      ]
    },
    {
      "cell_type": "code",
      "metadata": {
        "button": false,
        "deletable": true,
        "jupyter": {
          "outputs_hidden": false
        },
        "new_sheet": false,
        "run_control": {
          "read_only": false
        },
        "id": "2QH5n1snoi0q",
        "colab_type": "code",
        "outputId": "bc90c8e7-0756-4210-c88b-ebafb10ede59",
        "colab": {
          "base_uri": "https://localhost:8080/",
          "height": 306
        }
      },
      "source": [
        "dataframe_filtered.name"
      ],
      "execution_count": 0,
      "outputs": [
        {
          "output_type": "execute_result",
          "data": {
            "text/plain": [
              "0                     Waffle stories\n",
              "1                            Stories\n",
              "2                            Stories\n",
              "3                            Stories\n",
              "4          Stories: The Brew Chapter\n",
              "5                      Stories Homes\n",
              "6     STORIES - Global Home Concepts\n",
              "7                     waffle stories\n",
              "8                     Waffle Stories\n",
              "9                     Waffle Stories\n",
              "10                     Tasty Stories\n",
              "11                    Waffle Stories\n",
              "12                 Mugful Of Stories\n",
              "13                    Waffle Stories\n",
              "14                    Waffle Stories\n",
              "15                 Opus Food Stories\n",
              "Name: name, dtype: object"
            ]
          },
          "metadata": {
            "tags": []
          },
          "execution_count": 31
        }
      ]
    },
    {
      "cell_type": "code",
      "metadata": {
        "button": false,
        "deletable": true,
        "jupyter": {
          "outputs_hidden": false
        },
        "new_sheet": false,
        "run_control": {
          "read_only": false
        },
        "id": "0RWA4HMloi09",
        "colab_type": "code",
        "outputId": "092f37fa-a68a-430e-d5ce-28b9f477491c",
        "colab": {
          "base_uri": "https://localhost:8080/",
          "height": 231
        }
      },
      "source": [
        "venues_map = folium.Map(location=[latitude, longitude], zoom_start=13) # generate map centred around the Conrad Hotel\n",
        "\n",
        "# add a red circle marker to represent the Conrad Hotel\n",
        "folium.features.CircleMarker(\n",
        "    [latitude, longitude],\n",
        "    radius=10,\n",
        "    color='red',\n",
        "    popup='Conrad Hotel',\n",
        "    fill = True,\n",
        "    fill_color = 'red',\n",
        "    fill_opacity = 0.6\n",
        ").add_to(venues_map)\n",
        "\n",
        "# add the Italian restaurants as blue circle markers\n",
        "for lat, lng, label in zip(dataframe_filtered.lat, dataframe_filtered.lng, dataframe_filtered.categories):\n",
        "    folium.features.CircleMarker(\n",
        "        [lat, lng],\n",
        "        radius=5,\n",
        "        color='blue',\n",
        "        popup=label,\n",
        "        fill = True,\n",
        "        fill_color='blue',\n",
        "        fill_opacity=0.6\n",
        "    ).add_to(venues_map)\n",
        "\n",
        "# display map\n",
        "venues_map"
      ],
      "execution_count": 0,
      "outputs": [
        {
          "output_type": "error",
          "ename": "AttributeError",
          "evalue": "ignored",
          "traceback": [
            "\u001b[0;31m---------------------------------------------------------------------------\u001b[0m",
            "\u001b[0;31mAttributeError\u001b[0m                            Traceback (most recent call last)",
            "\u001b[0;32m<ipython-input-32-84dd12227b0f>\u001b[0m in \u001b[0;36m<module>\u001b[0;34m()\u001b[0m\n\u001b[1;32m      2\u001b[0m \u001b[0;34m\u001b[0m\u001b[0m\n\u001b[1;32m      3\u001b[0m \u001b[0;31m# add a red circle marker to represent the Conrad Hotel\u001b[0m\u001b[0;34m\u001b[0m\u001b[0;34m\u001b[0m\u001b[0;34m\u001b[0m\u001b[0m\n\u001b[0;32m----> 4\u001b[0;31m folium.features.CircleMarker(\n\u001b[0m\u001b[1;32m      5\u001b[0m     \u001b[0;34m[\u001b[0m\u001b[0mlatitude\u001b[0m\u001b[0;34m,\u001b[0m \u001b[0mlongitude\u001b[0m\u001b[0;34m]\u001b[0m\u001b[0;34m,\u001b[0m\u001b[0;34m\u001b[0m\u001b[0;34m\u001b[0m\u001b[0m\n\u001b[1;32m      6\u001b[0m     \u001b[0mradius\u001b[0m\u001b[0;34m=\u001b[0m\u001b[0;36m10\u001b[0m\u001b[0;34m,\u001b[0m\u001b[0;34m\u001b[0m\u001b[0;34m\u001b[0m\u001b[0m\n",
            "\u001b[0;31mAttributeError\u001b[0m: module 'folium.features' has no attribute 'CircleMarker'"
          ]
        }
      ]
    },
    {
      "cell_type": "markdown",
      "metadata": {
        "button": false,
        "deletable": true,
        "new_sheet": false,
        "run_control": {
          "read_only": false
        },
        "id": "qCKDlNH5oi1N",
        "colab_type": "text"
      },
      "source": [
        "   "
      ]
    },
    {
      "cell_type": "markdown",
      "metadata": {
        "button": false,
        "deletable": true,
        "new_sheet": false,
        "run_control": {
          "read_only": false
        },
        "id": "UfuHHgzroi1Q",
        "colab_type": "text"
      },
      "source": [
        "<a id=\"item2\"></a>"
      ]
    },
    {
      "cell_type": "markdown",
      "metadata": {
        "button": false,
        "deletable": true,
        "new_sheet": false,
        "run_control": {
          "read_only": false
        },
        "id": "46ug_QBhoi1T",
        "colab_type": "text"
      },
      "source": [
        "## 2. Explore a Given Venue\n",
        "> `https://api.foursquare.com/v2/venues/`**VENUE_ID**`?client_id=`**CLIENT_ID**`&client_secret=`**CLIENT_SECRET**`&v=`**VERSION**"
      ]
    },
    {
      "cell_type": "markdown",
      "metadata": {
        "button": false,
        "deletable": true,
        "new_sheet": false,
        "run_control": {
          "read_only": false
        },
        "id": "dMnPNYlFoi1b",
        "colab_type": "text"
      },
      "source": [
        "### A. Let's explore the closest Italian restaurant -- _Harry's Italian Pizza Bar_"
      ]
    },
    {
      "cell_type": "code",
      "metadata": {
        "button": false,
        "deletable": true,
        "jupyter": {
          "outputs_hidden": false
        },
        "new_sheet": false,
        "run_control": {
          "read_only": false
        },
        "id": "EFYSArItoi1g",
        "colab_type": "code",
        "colab": {}
      },
      "source": [
        "venue_id = '4f3232e219836c91c7bfde94' # ID of stories\n",
        "url = 'https://api.foursquare.com/v2/venues/{}?client_id={}&client_secret={}&v={}'.format(venue_id, CLIENT_ID, CLIENT_SECRET, VERSION)\n",
        "url"
      ],
      "execution_count": 0,
      "outputs": []
    },
    {
      "cell_type": "markdown",
      "metadata": {
        "button": false,
        "deletable": true,
        "new_sheet": false,
        "run_control": {
          "read_only": false
        },
        "id": "hEBbD0hYoi1r",
        "colab_type": "text"
      },
      "source": [
        "#### Send GET request for result"
      ]
    },
    {
      "cell_type": "code",
      "metadata": {
        "button": false,
        "deletable": true,
        "jupyter": {
          "outputs_hidden": false
        },
        "new_sheet": false,
        "run_control": {
          "read_only": false
        },
        "id": "h8br7nOOoi1u",
        "colab_type": "code",
        "colab": {}
      },
      "source": [
        "result = requests.get(url).json()\n",
        "print(result['response']['venue'].keys())\n",
        "result['response']['venue']"
      ],
      "execution_count": 0,
      "outputs": []
    },
    {
      "cell_type": "markdown",
      "metadata": {
        "button": false,
        "deletable": true,
        "new_sheet": false,
        "run_control": {
          "read_only": false
        },
        "id": "XqlHko71oi2P",
        "colab_type": "text"
      },
      "source": [
        "### B. Get the venue's overall rating"
      ]
    },
    {
      "cell_type": "code",
      "metadata": {
        "button": false,
        "deletable": true,
        "jupyter": {
          "outputs_hidden": false
        },
        "new_sheet": false,
        "run_control": {
          "read_only": false
        },
        "id": "n1jYsTIWoi21",
        "colab_type": "code",
        "colab": {}
      },
      "source": [
        "try:\n",
        "    print(result['response']['venue']['rating'])\n",
        "except:\n",
        "    print('This venue has not been rated yet.')"
      ],
      "execution_count": 0,
      "outputs": []
    },
    {
      "cell_type": "markdown",
      "metadata": {
        "button": false,
        "deletable": true,
        "new_sheet": false,
        "run_control": {
          "read_only": false
        },
        "id": "lYy49QpHoi3X",
        "colab_type": "text"
      },
      "source": [
        "That is not a very good rating. Let's check the rating of the second closest Italian restaurant."
      ]
    },
    {
      "cell_type": "code",
      "metadata": {
        "button": false,
        "deletable": true,
        "jupyter": {
          "outputs_hidden": false
        },
        "new_sheet": false,
        "run_control": {
          "read_only": false
        },
        "id": "68EW6rW5oi3z",
        "colab_type": "code",
        "colab": {}
      },
      "source": [
        "venue_id = '4f3232e219836c91c7bfde94' # ID of Conca Cucina Italian Restaurant\n",
        "url = 'https://api.foursquare.com/v2/venues/{}?client_id={}&client_secret={}&v={}'.format(venue_id, CLIENT_ID, CLIENT_SECRET, VERSION)\n",
        "\n",
        "result = requests.get(url).json()\n",
        "try:\n",
        "    print(result['response']['venue']['rating'])\n",
        "except:\n",
        "    print('This venue has not been rated yet.')"
      ],
      "execution_count": 0,
      "outputs": []
    },
    {
      "cell_type": "markdown",
      "metadata": {
        "button": false,
        "deletable": true,
        "new_sheet": false,
        "run_control": {
          "read_only": false
        },
        "id": "EiPv9jtRoi44",
        "colab_type": "text"
      },
      "source": [
        "Since this restaurant has no ratings, let's check the third restaurant."
      ]
    },
    {
      "cell_type": "code",
      "metadata": {
        "button": false,
        "deletable": true,
        "jupyter": {
          "outputs_hidden": false
        },
        "new_sheet": false,
        "run_control": {
          "read_only": false
        },
        "id": "cghc0Oqjoi4-",
        "colab_type": "code",
        "colab": {}
      },
      "source": [
        "venue_id = '3fd66200f964a520f4e41ee3' # ID of Ecco\n",
        "url = 'https://api.foursquare.com/v2/venues/{}?client_id={}&client_secret={}&v={}'.format(venue_id, CLIENT_ID, CLIENT_SECRET, VERSION)\n",
        "\n",
        "result = requests.get(url).json()\n",
        "try:\n",
        "    print(result['response']['venue']['rating'])\n",
        "except:\n",
        "    print('This venue has not been rated yet.')"
      ],
      "execution_count": 0,
      "outputs": []
    },
    {
      "cell_type": "markdown",
      "metadata": {
        "button": false,
        "deletable": true,
        "new_sheet": false,
        "run_control": {
          "read_only": false
        },
        "id": "4rB_aIV8oi55",
        "colab_type": "text"
      },
      "source": [
        "Since this restaurant has a slightly better rating, let's explore it further."
      ]
    },
    {
      "cell_type": "markdown",
      "metadata": {
        "button": false,
        "deletable": true,
        "new_sheet": false,
        "run_control": {
          "read_only": false
        },
        "id": "AHm9pCHqoi58",
        "colab_type": "text"
      },
      "source": [
        "### C. Get the number of tips"
      ]
    },
    {
      "cell_type": "code",
      "metadata": {
        "button": false,
        "deletable": true,
        "jupyter": {
          "outputs_hidden": false
        },
        "new_sheet": false,
        "run_control": {
          "read_only": false
        },
        "id": "jAgzx7Cpoi6A",
        "colab_type": "code",
        "colab": {}
      },
      "source": [
        "result['response']['venue']['tips']['count']"
      ],
      "execution_count": 0,
      "outputs": []
    },
    {
      "cell_type": "markdown",
      "metadata": {
        "button": false,
        "deletable": true,
        "new_sheet": false,
        "run_control": {
          "read_only": false
        },
        "id": "a70fMzaToi6X",
        "colab_type": "text"
      },
      "source": [
        "### D. Get the venue's tips\n",
        "> `https://api.foursquare.com/v2/venues/`**VENUE_ID**`/tips?client_id=`**CLIENT_ID**`&client_secret=`**CLIENT_SECRET**`&v=`**VERSION**`&limit=`**LIMIT**"
      ]
    },
    {
      "cell_type": "markdown",
      "metadata": {
        "button": false,
        "deletable": true,
        "new_sheet": false,
        "run_control": {
          "read_only": false
        },
        "id": "rCWJ48zioi6a",
        "colab_type": "text"
      },
      "source": [
        "#### Create URL and send GET request. Make sure to set limit to get all tips"
      ]
    },
    {
      "cell_type": "code",
      "metadata": {
        "button": false,
        "deletable": true,
        "jupyter": {
          "outputs_hidden": false
        },
        "new_sheet": false,
        "run_control": {
          "read_only": false
        },
        "id": "ZbowD1Ouoi6d",
        "colab_type": "code",
        "colab": {}
      },
      "source": [
        "## Ecco Tips\n",
        "limit = 15 # set limit to be greater than or equal to the total number of tips\n",
        "url = 'https://api.foursquare.com/v2/venues/{}/tips?client_id={}&client_secret={}&v={}&limit={}'.format(venue_id, CLIENT_ID, CLIENT_SECRET, VERSION, limit)\n",
        "\n",
        "results = requests.get(url).json()\n",
        "results"
      ],
      "execution_count": 0,
      "outputs": []
    },
    {
      "cell_type": "markdown",
      "metadata": {
        "button": false,
        "deletable": true,
        "new_sheet": false,
        "run_control": {
          "read_only": false
        },
        "id": "Rj7C8-xhoi6r",
        "colab_type": "text"
      },
      "source": [
        "#### Get tips and list of associated features"
      ]
    },
    {
      "cell_type": "code",
      "metadata": {
        "button": false,
        "deletable": true,
        "jupyter": {
          "outputs_hidden": false
        },
        "new_sheet": false,
        "run_control": {
          "read_only": false
        },
        "id": "LhPlKfcwoi6u",
        "colab_type": "code",
        "colab": {}
      },
      "source": [
        "tips = results['response']['tips']['items']\n",
        "\n",
        "tip = results['response']['tips']['items'][0]\n",
        "tip.keys()"
      ],
      "execution_count": 0,
      "outputs": []
    },
    {
      "cell_type": "markdown",
      "metadata": {
        "button": false,
        "deletable": true,
        "new_sheet": false,
        "run_control": {
          "read_only": false
        },
        "id": "AlzPrWgioi7A",
        "colab_type": "text"
      },
      "source": [
        "#### Format column width and display all tips"
      ]
    },
    {
      "cell_type": "code",
      "metadata": {
        "button": false,
        "deletable": true,
        "jupyter": {
          "outputs_hidden": false
        },
        "new_sheet": false,
        "run_control": {
          "read_only": false
        },
        "id": "2K7h4tMooi7I",
        "colab_type": "code",
        "colab": {}
      },
      "source": [
        "pd.set_option('display.max_colwidth', -1)\n",
        "\n",
        "tips_df = json_normalize(tips) # json normalize tips\n",
        "\n",
        "# columns to keep\n",
        "filtered_columns = ['text', 'agreeCount', 'disagreeCount', 'id', 'user.firstName', 'user.lastName', 'user.gender', 'user.id']\n",
        "tips_filtered = tips_df.loc[:, filtered_columns]\n",
        "\n",
        "# display tips\n",
        "tips_filtered"
      ],
      "execution_count": 0,
      "outputs": []
    },
    {
      "cell_type": "markdown",
      "metadata": {
        "button": false,
        "deletable": true,
        "new_sheet": false,
        "run_control": {
          "read_only": false
        },
        "id": "HeJ7jDyvoi7Y",
        "colab_type": "text"
      },
      "source": [
        "Now remember that because we are using a personal developer account, then we can access only 2 of the restaurant's tips, instead of all 15 tips."
      ]
    },
    {
      "cell_type": "markdown",
      "metadata": {
        "button": false,
        "deletable": true,
        "new_sheet": false,
        "run_control": {
          "read_only": false
        },
        "id": "DJsdtyzjoi7d",
        "colab_type": "text"
      },
      "source": [
        "   "
      ]
    },
    {
      "cell_type": "markdown",
      "metadata": {
        "button": false,
        "deletable": true,
        "new_sheet": false,
        "run_control": {
          "read_only": false
        },
        "id": "ksdAlCM6oi7h",
        "colab_type": "text"
      },
      "source": [
        "<a id=\"item3\"></a>"
      ]
    },
    {
      "cell_type": "markdown",
      "metadata": {
        "button": false,
        "deletable": true,
        "new_sheet": false,
        "run_control": {
          "read_only": false
        },
        "id": "uuFLgywhoi7n",
        "colab_type": "text"
      },
      "source": [
        "## 3. Search a Foursquare User\n",
        "> `https://api.foursquare.com/v2/users/`**USER_ID**`?client_id=`**CLIENT_ID**`&client_secret=`**CLIENT_SECRET**`&v=`**VERSION**"
      ]
    },
    {
      "cell_type": "markdown",
      "metadata": {
        "button": false,
        "deletable": true,
        "new_sheet": false,
        "run_control": {
          "read_only": false
        },
        "id": "pqiWonCRoi7q",
        "colab_type": "text"
      },
      "source": [
        "### Define URL, send GET request and display features associated with user"
      ]
    },
    {
      "cell_type": "code",
      "metadata": {
        "button": false,
        "deletable": true,
        "jupyter": {
          "outputs_hidden": false
        },
        "new_sheet": false,
        "run_control": {
          "read_only": false
        },
        "id": "cmMdb4XJoi7x",
        "colab_type": "code",
        "colab": {}
      },
      "source": [
        "user_id = '484542633' # user ID with most agree counts and complete profile\n",
        "\n",
        "url = 'https://api.foursquare.com/v2/users/{}?client_id={}&client_secret={}&v={}'.format(user_id, CLIENT_ID, CLIENT_SECRET, VERSION) # define URL\n",
        "\n",
        "# send GET request\n",
        "results = requests.get(url).json()\n",
        "user_data = results['response']['user']\n",
        "\n",
        "# display features associated with user\n",
        "user_data.keys()"
      ],
      "execution_count": 0,
      "outputs": []
    },
    {
      "cell_type": "code",
      "metadata": {
        "button": false,
        "deletable": true,
        "jupyter": {
          "outputs_hidden": false
        },
        "new_sheet": false,
        "run_control": {
          "read_only": false
        },
        "id": "EId--AZYoi8Y",
        "colab_type": "code",
        "colab": {}
      },
      "source": [
        "print('First Name: ' + user_data['firstName'])\n",
        "print('Last Name: ' + user_data['lastName'])\n",
        "print('Home City: ' + user_data['homeCity'])"
      ],
      "execution_count": 0,
      "outputs": []
    },
    {
      "cell_type": "markdown",
      "metadata": {
        "button": false,
        "deletable": true,
        "new_sheet": false,
        "run_control": {
          "read_only": false
        },
        "id": "qEE3sHcaoi81",
        "colab_type": "text"
      },
      "source": [
        "#### How many tips has this user submitted?"
      ]
    },
    {
      "cell_type": "code",
      "metadata": {
        "button": false,
        "deletable": true,
        "jupyter": {
          "outputs_hidden": false
        },
        "new_sheet": false,
        "run_control": {
          "read_only": false
        },
        "id": "IqvYj2m9oi85",
        "colab_type": "code",
        "colab": {}
      },
      "source": [
        "user_data['tips']"
      ],
      "execution_count": 0,
      "outputs": []
    },
    {
      "cell_type": "markdown",
      "metadata": {
        "button": false,
        "deletable": true,
        "new_sheet": false,
        "run_control": {
          "read_only": false
        },
        "id": "KbtJ3v9_oi9Q",
        "colab_type": "text"
      },
      "source": [
        "Wow! So it turns out that Nick is a very active Foursquare user, with more than 250 tips."
      ]
    },
    {
      "cell_type": "markdown",
      "metadata": {
        "button": false,
        "deletable": true,
        "new_sheet": false,
        "run_control": {
          "read_only": false
        },
        "id": "gaF6Ej5doi9d",
        "colab_type": "text"
      },
      "source": [
        "### Get User's tips"
      ]
    },
    {
      "cell_type": "code",
      "metadata": {
        "button": false,
        "deletable": true,
        "jupyter": {
          "outputs_hidden": false
        },
        "new_sheet": false,
        "run_control": {
          "read_only": false
        },
        "id": "W2hvve1moi9l",
        "colab_type": "code",
        "colab": {}
      },
      "source": [
        "# define tips URL\n",
        "url = 'https://api.foursquare.com/v2/users/{}/tips?client_id={}&client_secret={}&v={}&limit={}'.format(user_id, CLIENT_ID, CLIENT_SECRET, VERSION, limit)\n",
        "\n",
        "# send GET request and get user's tips\n",
        "results = requests.get(url).json()\n",
        "tips = results['response']['tips']['items']\n",
        "\n",
        "# format column width\n",
        "pd.set_option('display.max_colwidth', -1)\n",
        "\n",
        "tips_df = json_normalize(tips)\n",
        "\n",
        "# filter columns\n",
        "filtered_columns = ['text', 'agreeCount', 'disagreeCount', 'id']\n",
        "tips_filtered = tips_df.loc[:, filtered_columns]\n",
        "\n",
        "# display user's tips\n",
        "tips_filtered"
      ],
      "execution_count": 0,
      "outputs": []
    },
    {
      "cell_type": "markdown",
      "metadata": {
        "button": false,
        "deletable": true,
        "new_sheet": false,
        "run_control": {
          "read_only": false
        },
        "id": "BBtO6oXwoi9y",
        "colab_type": "text"
      },
      "source": [
        "#### Let's get the venue for the tip with the greatest number of agree counts"
      ]
    },
    {
      "cell_type": "code",
      "metadata": {
        "button": false,
        "deletable": true,
        "jupyter": {
          "outputs_hidden": false
        },
        "new_sheet": false,
        "run_control": {
          "read_only": false
        },
        "id": "Isy0p96ioi94",
        "colab_type": "code",
        "colab": {}
      },
      "source": [
        "tip_id = '5ab5575d73fe2516ad8f363b' # tip id\n",
        "\n",
        "# define URL\n",
        "url = 'http://api.foursquare.com/v2/tips/{}?client_id={}&client_secret={}&v={}'.format(tip_id, CLIENT_ID, CLIENT_SECRET, VERSION)\n",
        "\n",
        "# send GET Request and examine results\n",
        "result = requests.get(url).json()\n",
        "print(result['response']['tip']['venue']['name'])\n",
        "print(result['response']['tip']['venue']['location'])"
      ],
      "execution_count": 0,
      "outputs": []
    },
    {
      "cell_type": "markdown",
      "metadata": {
        "button": false,
        "deletable": true,
        "new_sheet": false,
        "run_control": {
          "read_only": false
        },
        "id": "vGpM-EROoi-O",
        "colab_type": "text"
      },
      "source": [
        "### Get User's friends"
      ]
    },
    {
      "cell_type": "code",
      "metadata": {
        "button": false,
        "deletable": true,
        "jupyter": {
          "outputs_hidden": false
        },
        "new_sheet": false,
        "run_control": {
          "read_only": false
        },
        "id": "mPkBgW_Loi-1",
        "colab_type": "code",
        "colab": {}
      },
      "source": [
        "user_friends = json_normalize(user_data['friends']['groups'][0]['items'])\n",
        "user_friends"
      ],
      "execution_count": 0,
      "outputs": []
    },
    {
      "cell_type": "markdown",
      "metadata": {
        "button": false,
        "deletable": true,
        "new_sheet": false,
        "run_control": {
          "read_only": false
        },
        "id": "KHp_VfjJoi_C",
        "colab_type": "text"
      },
      "source": [
        "Interesting. Despite being very active, it turns out that Nick does not have any friends on Foursquare. This might definitely change in the future."
      ]
    },
    {
      "cell_type": "markdown",
      "metadata": {
        "button": false,
        "deletable": true,
        "new_sheet": false,
        "run_control": {
          "read_only": false
        },
        "id": "rBMOBBC4oi_I",
        "colab_type": "text"
      },
      "source": [
        "### Retrieve the User's Profile Image"
      ]
    },
    {
      "cell_type": "code",
      "metadata": {
        "button": false,
        "deletable": true,
        "jupyter": {
          "outputs_hidden": false
        },
        "new_sheet": false,
        "run_control": {
          "read_only": false
        },
        "scrolled": true,
        "id": "j5Zuo0K4oi_N",
        "colab_type": "code",
        "colab": {}
      },
      "source": [
        "user_data"
      ],
      "execution_count": 0,
      "outputs": []
    },
    {
      "cell_type": "code",
      "metadata": {
        "button": false,
        "deletable": true,
        "jupyter": {
          "outputs_hidden": false
        },
        "new_sheet": false,
        "run_control": {
          "read_only": false
        },
        "id": "784B5Pneoi_j",
        "colab_type": "code",
        "colab": {}
      },
      "source": [
        "# 1. grab prefix of photo\n",
        "# 2. grab suffix of photo\n",
        "# 3. concatenate them using the image size  \n",
        "Image(url='https://igx.4sqi.net/img/user/300x300/484542633_mK2Yum7T_7Tn9fWpndidJsmw2Hof_6T5vJBKCHPLMK5OL-U5ZiJGj51iwBstcpDLYa3Zvhvis.jpg')"
      ],
      "execution_count": 0,
      "outputs": []
    },
    {
      "cell_type": "markdown",
      "metadata": {
        "button": false,
        "deletable": true,
        "new_sheet": false,
        "run_control": {
          "read_only": false
        },
        "id": "3hEZMLGPoi_v",
        "colab_type": "text"
      },
      "source": [
        "  "
      ]
    },
    {
      "cell_type": "markdown",
      "metadata": {
        "button": false,
        "deletable": true,
        "new_sheet": false,
        "run_control": {
          "read_only": false
        },
        "id": "cAnGvxxToi_z",
        "colab_type": "text"
      },
      "source": [
        "<a id=\"item4\"></a>"
      ]
    },
    {
      "cell_type": "markdown",
      "metadata": {
        "button": false,
        "deletable": true,
        "new_sheet": false,
        "run_control": {
          "read_only": false
        },
        "id": "ae7VKjYqoi_7",
        "colab_type": "text"
      },
      "source": [
        "## 4. Explore a location\n",
        "> `https://api.foursquare.com/v2/venues/`**explore**`?client_id=`**CLIENT_ID**`&client_secret=`**CLIENT_SECRET**`&ll=`**LATITUDE**`,`**LONGITUDE**`&v=`**VERSION**`&limit=`**LIMIT**"
      ]
    },
    {
      "cell_type": "markdown",
      "metadata": {
        "button": false,
        "deletable": true,
        "new_sheet": false,
        "run_control": {
          "read_only": false
        },
        "id": "bbiVw0-XojAQ",
        "colab_type": "text"
      },
      "source": [
        "#### So, you just finished your gourmet dish at Ecco, and are just curious about the popular spots around the restaurant. In order to explore the area, let's start by getting the latitude and longitude values of Ecco Restaurant."
      ]
    },
    {
      "cell_type": "code",
      "metadata": {
        "button": false,
        "deletable": true,
        "new_sheet": false,
        "run_control": {
          "read_only": false
        },
        "id": "eEdQsjEcojAX",
        "colab_type": "code",
        "colab": {}
      },
      "source": [
        "latitude = 12.9791198\n",
        "longitude = 77.5912997"
      ],
      "execution_count": 0,
      "outputs": []
    },
    {
      "cell_type": "markdown",
      "metadata": {
        "button": false,
        "deletable": true,
        "new_sheet": false,
        "run_control": {
          "read_only": false
        },
        "id": "Q6ELi9lkojAv",
        "colab_type": "text"
      },
      "source": [
        "#### Define URL"
      ]
    },
    {
      "cell_type": "code",
      "metadata": {
        "button": false,
        "deletable": true,
        "jupyter": {
          "outputs_hidden": false
        },
        "new_sheet": false,
        "run_control": {
          "read_only": false
        },
        "id": "jvNFZEZSojAz",
        "colab_type": "code",
        "colab": {}
      },
      "source": [
        "url = 'https://api.foursquare.com/v2/venues/explore?client_id={}&client_secret={}&ll={},{}&v={}&radius={}&limit={}'.format(CLIENT_ID, CLIENT_SECRET, latitude, longitude, VERSION, radius, LIMIT)\n",
        "url"
      ],
      "execution_count": 0,
      "outputs": []
    },
    {
      "cell_type": "markdown",
      "metadata": {
        "button": false,
        "deletable": true,
        "new_sheet": false,
        "run_control": {
          "read_only": false
        },
        "id": "5lr4FiV6ojBJ",
        "colab_type": "text"
      },
      "source": [
        "#### Send GET request and examine results"
      ]
    },
    {
      "cell_type": "code",
      "metadata": {
        "button": false,
        "deletable": true,
        "new_sheet": false,
        "run_control": {
          "read_only": false
        },
        "id": "6l6JRgLhojBR",
        "colab_type": "code",
        "colab": {}
      },
      "source": [
        "import requests"
      ],
      "execution_count": 0,
      "outputs": []
    },
    {
      "cell_type": "code",
      "metadata": {
        "button": false,
        "deletable": true,
        "jupyter": {
          "outputs_hidden": false
        },
        "new_sheet": false,
        "run_control": {
          "read_only": false
        },
        "id": "PSbAfEvtojBj",
        "colab_type": "code",
        "colab": {}
      },
      "source": [
        "results = requests.get(url).json()\n",
        "'There are {} around Ecco restaurant.'.format(len(results['response']['groups'][0]['items']))"
      ],
      "execution_count": 0,
      "outputs": []
    },
    {
      "cell_type": "markdown",
      "metadata": {
        "button": false,
        "deletable": true,
        "new_sheet": false,
        "run_control": {
          "read_only": false
        },
        "id": "mypgejS3ojB7",
        "colab_type": "text"
      },
      "source": [
        "#### Get relevant part of JSON"
      ]
    },
    {
      "cell_type": "code",
      "metadata": {
        "button": false,
        "deletable": true,
        "jupyter": {
          "outputs_hidden": false
        },
        "new_sheet": false,
        "run_control": {
          "read_only": false
        },
        "id": "8SGtOnFaojB-",
        "colab_type": "code",
        "colab": {}
      },
      "source": [
        "items = results['response']['groups'][0]['items']\n",
        "items[0]"
      ],
      "execution_count": 0,
      "outputs": []
    },
    {
      "cell_type": "markdown",
      "metadata": {
        "button": false,
        "deletable": true,
        "new_sheet": false,
        "run_control": {
          "read_only": false
        },
        "id": "zqKNO9TxojCO",
        "colab_type": "text"
      },
      "source": [
        "#### Process JSON and convert it to a clean dataframe"
      ]
    },
    {
      "cell_type": "code",
      "metadata": {
        "button": false,
        "deletable": true,
        "jupyter": {
          "outputs_hidden": false
        },
        "new_sheet": false,
        "run_control": {
          "read_only": false
        },
        "id": "IJ-X5_e-ojCR",
        "colab_type": "code",
        "colab": {}
      },
      "source": [
        "dataframe = json_normalize(items) # flatten JSON\n",
        "\n",
        "# filter columns\n",
        "filtered_columns = ['venue.name', 'venue.categories'] + [col for col in dataframe.columns if col.startswith('venue.location.')] + ['venue.id']\n",
        "dataframe_filtered = dataframe.loc[:, filtered_columns]\n",
        "\n",
        "# filter the category for each row\n",
        "dataframe_filtered['venue.categories'] = dataframe_filtered.apply(get_category_type, axis=1)\n",
        "\n",
        "# clean columns\n",
        "dataframe_filtered.columns = [col.split('.')[-1] for col in dataframe_filtered.columns]\n",
        "\n",
        "dataframe_filtered.head(10)"
      ],
      "execution_count": 0,
      "outputs": []
    },
    {
      "cell_type": "markdown",
      "metadata": {
        "button": false,
        "deletable": true,
        "new_sheet": false,
        "run_control": {
          "read_only": false
        },
        "id": "-E3adQdZojC-",
        "colab_type": "text"
      },
      "source": [
        "#### Let's visualize these items on the map around our location"
      ]
    },
    {
      "cell_type": "code",
      "metadata": {
        "button": false,
        "deletable": true,
        "jupyter": {
          "outputs_hidden": false
        },
        "new_sheet": false,
        "run_control": {
          "read_only": false
        },
        "id": "ik0gg-_rojDF",
        "colab_type": "code",
        "colab": {}
      },
      "source": [
        "venues_map = folium.Map(location=[latitude, longitude], zoom_start=15) # generate map centred around Ecco\n",
        "\n",
        "\n",
        "# add Ecco as a red circle mark\n",
        "folium.features.CircleMarker(\n",
        "    [latitude, longitude],\n",
        "    radius=10,\n",
        "    popup='Ecco',\n",
        "    fill=True,\n",
        "    color='red',\n",
        "    fill_color='red',\n",
        "    fill_opacity=0.6\n",
        "    ).add_to(venues_map)\n",
        "\n",
        "\n",
        "# add popular spots to the map as blue circle markers\n",
        "for lat, lng, label in zip(dataframe_filtered.lat, dataframe_filtered.lng, dataframe_filtered.categories):\n",
        "    folium.features.CircleMarker(\n",
        "        [lat, lng],\n",
        "        radius=5,\n",
        "        popup=label,\n",
        "        fill=True,\n",
        "        color='blue',\n",
        "        fill_color='blue',\n",
        "        fill_opacity=0.6\n",
        "        ).add_to(venues_map)\n",
        "\n",
        "# display map\n",
        "venues_map"
      ],
      "execution_count": 0,
      "outputs": []
    },
    {
      "cell_type": "markdown",
      "metadata": {
        "button": false,
        "deletable": true,
        "new_sheet": false,
        "run_control": {
          "read_only": false
        },
        "id": "yFE_u5zEojDW",
        "colab_type": "text"
      },
      "source": [
        "   "
      ]
    },
    {
      "cell_type": "markdown",
      "metadata": {
        "button": false,
        "deletable": true,
        "new_sheet": false,
        "run_control": {
          "read_only": false
        },
        "id": "NPbpnkfeojDq",
        "colab_type": "text"
      },
      "source": [
        "<a id=\"item5\"></a>"
      ]
    },
    {
      "cell_type": "markdown",
      "metadata": {
        "button": false,
        "deletable": true,
        "new_sheet": false,
        "run_control": {
          "read_only": false
        },
        "id": "0UXN2RYsojDy",
        "colab_type": "text"
      },
      "source": [
        "## 5. Explore Trending Venues\n",
        "> `https://api.foursquare.com/v2/venues/`**trending**`?client_id=`**CLIENT_ID**`&client_secret=`**CLIENT_SECRET**`&ll=`**LATITUDE**`,`**LONGITUDE**`&v=`**VERSION**"
      ]
    },
    {
      "cell_type": "markdown",
      "metadata": {
        "button": false,
        "deletable": true,
        "new_sheet": false,
        "run_control": {
          "read_only": false
        },
        "id": "LTPKZFYOojD0",
        "colab_type": "text"
      },
      "source": [
        "#### Now, instead of simply exploring the area around Ecco, you are interested in knowing the venues that are trending at the time you are done with your lunch, meaning the places with the highest foot traffic. So let's do that and get the trending venues around Ecco."
      ]
    },
    {
      "cell_type": "code",
      "metadata": {
        "button": false,
        "deletable": true,
        "jupyter": {
          "outputs_hidden": false
        },
        "new_sheet": false,
        "run_control": {
          "read_only": false
        },
        "id": "dYQeBpzvojD4",
        "colab_type": "code",
        "colab": {}
      },
      "source": [
        "# define URL\n",
        "url = 'https://api.foursquare.com/v2/venues/trending?client_id={}&client_secret={}&ll={},{}&v={}'.format(CLIENT_ID, CLIENT_SECRET, latitude, longitude, VERSION)\n",
        "\n",
        "# send GET request and get trending venues\n",
        "results = requests.get(url).json()\n",
        "results"
      ],
      "execution_count": 0,
      "outputs": []
    },
    {
      "cell_type": "markdown",
      "metadata": {
        "button": false,
        "deletable": true,
        "new_sheet": false,
        "run_control": {
          "read_only": false
        },
        "id": "EpOcARG4ojEE",
        "colab_type": "text"
      },
      "source": [
        "### Check if any venues are trending at this time"
      ]
    },
    {
      "cell_type": "code",
      "metadata": {
        "button": false,
        "deletable": true,
        "new_sheet": false,
        "run_control": {
          "read_only": false
        },
        "id": "BcQU9MkZojEJ",
        "colab_type": "code",
        "colab": {}
      },
      "source": [
        "if len(results['response']['venues']) == 0:\n",
        "    trending_venues_df = 'No trending venues are available at the moment!'\n",
        "    \n",
        "else:\n",
        "    trending_venues = results['response']['venues']\n",
        "    trending_venues_df = json_normalize(trending_venues)\n",
        "\n",
        "    # filter columns\n",
        "    columns_filtered = ['name', 'categories'] + ['location.distance', 'location.city', 'location.postalCode', 'location.state', 'location.country', 'location.lat', 'location.lng']\n",
        "    trending_venues_df = trending_venues_df.loc[:, columns_filtered]\n",
        "\n",
        "    # filter the category for each row\n",
        "    trending_venues_df['categories'] = trending_venues_df.apply(get_category_type, axis=1)"
      ],
      "execution_count": 0,
      "outputs": []
    },
    {
      "cell_type": "code",
      "metadata": {
        "button": false,
        "deletable": true,
        "jupyter": {
          "outputs_hidden": false
        },
        "new_sheet": false,
        "run_control": {
          "read_only": false
        },
        "id": "poz-mvGmojET",
        "colab_type": "code",
        "colab": {}
      },
      "source": [
        "# display trending venues\n",
        "trending_venues_df"
      ],
      "execution_count": 0,
      "outputs": []
    },
    {
      "cell_type": "markdown",
      "metadata": {
        "button": false,
        "deletable": true,
        "new_sheet": false,
        "run_control": {
          "read_only": false
        },
        "id": "mWHU68tgojEb",
        "colab_type": "text"
      },
      "source": [
        "Now, depending on when you run the above code, you might get different venues since the venues with the highest foot traffic are fetched live. "
      ]
    },
    {
      "cell_type": "markdown",
      "metadata": {
        "button": false,
        "deletable": true,
        "new_sheet": false,
        "run_control": {
          "read_only": false
        },
        "id": "laYksl38ojEe",
        "colab_type": "text"
      },
      "source": [
        "### Visualize trending venues"
      ]
    },
    {
      "cell_type": "code",
      "metadata": {
        "button": false,
        "deletable": true,
        "jupyter": {
          "outputs_hidden": false
        },
        "new_sheet": false,
        "run_control": {
          "read_only": false
        },
        "id": "ib3fOXU4ojEn",
        "colab_type": "code",
        "colab": {}
      },
      "source": [
        "if len(results['response']['venues']) == 0:\n",
        "    venues_map = 'Cannot generate visual as no trending venues are available at the moment!'\n",
        "\n",
        "else:\n",
        "    venues_map = folium.Map(location=[latitude, longitude], zoom_start=15) # generate map centred around Ecco\n",
        "\n",
        "\n",
        "    # add Ecco as a red circle mark\n",
        "    folium.features.CircleMarker(\n",
        "        [latitude, longitude],\n",
        "        radius=10,\n",
        "        popup='Ecco',\n",
        "        fill=True,\n",
        "        color='red',\n",
        "        fill_color='red',\n",
        "        fill_opacity=0.6\n",
        "    ).add_to(venues_map)\n",
        "\n",
        "\n",
        "    # add the trending venues as blue circle markers\n",
        "    for lat, lng, label in zip(trending_venues_df['location.lat'], trending_venues_df['location.lng'], trending_venues_df['name']):\n",
        "        folium.features.CircleMarker(\n",
        "            [lat, lng],\n",
        "            radius=5,\n",
        "            poup=label,\n",
        "            fill=True,\n",
        "            color='blue',\n",
        "            fill_color='blue',\n",
        "            fill_opacity=0.6\n",
        "        ).add_to(venues_map)"
      ],
      "execution_count": 0,
      "outputs": []
    },
    {
      "cell_type": "code",
      "metadata": {
        "button": false,
        "deletable": true,
        "jupyter": {
          "outputs_hidden": false
        },
        "new_sheet": false,
        "run_control": {
          "read_only": false
        },
        "id": "0ozAmu4uojE7",
        "colab_type": "code",
        "colab": {}
      },
      "source": [
        "# display map\n",
        "venues_map"
      ],
      "execution_count": 0,
      "outputs": []
    },
    {
      "cell_type": "markdown",
      "metadata": {
        "button": false,
        "deletable": true,
        "new_sheet": false,
        "run_control": {
          "read_only": false
        },
        "id": "L8bMTRNgojFR",
        "colab_type": "text"
      },
      "source": [
        "<a id=\"item6\"></a>"
      ]
    },
    {
      "cell_type": "markdown",
      "metadata": {
        "button": false,
        "deletable": true,
        "new_sheet": false,
        "run_control": {
          "read_only": false
        },
        "id": "bSnHZ-ZDojFY",
        "colab_type": "text"
      },
      "source": [
        "   "
      ]
    },
    {
      "cell_type": "markdown",
      "metadata": {
        "button": false,
        "deletable": true,
        "new_sheet": false,
        "run_control": {
          "read_only": false
        },
        "id": "z6sRtwmtojFf",
        "colab_type": "text"
      },
      "source": [
        "### Thank you for completing this lab!\n",
        "\n",
        "This notebook was created by [Alex Aklson](https://www.linkedin.com/in/aklson/). I hope you found this lab interesting and educational. Feel free to contact me if you have any questions!"
      ]
    },
    {
      "cell_type": "markdown",
      "metadata": {
        "button": false,
        "deletable": true,
        "new_sheet": false,
        "run_control": {
          "read_only": false
        },
        "id": "5mn1EGbSojFw",
        "colab_type": "text"
      },
      "source": [
        "This notebook is part of a course on **Coursera** called *Applied Data Science Capstone*. If you accessed this notebook outside the course, you can take this course online by clicking [here](http://cocl.us/DP0701EN_Coursera_Week2_LAB1)."
      ]
    },
    {
      "cell_type": "markdown",
      "metadata": {
        "button": false,
        "deletable": true,
        "new_sheet": false,
        "run_control": {
          "read_only": false
        },
        "id": "qM9iNd9tojGA",
        "colab_type": "text"
      },
      "source": [
        "<hr>\n",
        "Copyright &copy; 2018 [Cognitive Class](https://cognitiveclass.ai/?utm_source=bducopyrightlink&utm_medium=dswb&utm_campaign=bdu). This notebook and its source code are released under the terms of the [MIT License](https://bigdatauniversity.com/mit-license/)."
      ]
    }
  ]
}